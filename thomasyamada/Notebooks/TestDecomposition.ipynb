{
 "cells": [
  {
   "cell_type": "code",
   "execution_count": 1,
   "metadata": {},
   "outputs": [],
   "source": [
    "include(\"TYUtils.jl\")\n",
    "include(\"TYdriver.jl\")\n",
    "include(\"ThomasYamada.jl\")\n",
    "using FourierFlows\n",
    "using .ThomasYamada\n",
    "using .TYUtils"
   ]
  },
  {
   "cell_type": "code",
   "execution_count": 2,
   "metadata": {},
   "outputs": [],
   "source": [
    "prob = Problem(CPU(); \n",
    "        nx = 384,\n",
    "        ν  = 2.4e-34,\n",
    "        nν = 8,\n",
    "        Ro = 0.2,\n",
    "        stepper = \"RK4\",\n",
    "        dt = 1e-3)\n",
    "    \n",
    "sol, clock, params, vars, grid = prob.sol, prob.clock, prob.params, prob.vars, prob.grid\n",
    "x, y = grid.x, grid.y\n",
    "\n",
    "Driver.set_initial_condition(prob; k0g=10, k0w=6, Et=0.5, Eg=0.5, Ew=0.)"
   ]
  },
  {
   "cell_type": "code",
   "execution_count": 6,
   "metadata": {},
   "outputs": [
    {
     "data": {
      "text/plain": [
       "1.3642563371954253e-13"
      ]
     },
     "execution_count": 6,
     "metadata": {},
     "output_type": "execute_result"
    }
   ],
   "source": [
    "Gh, Wh = decompose_balanced_wave(prob.sol, grid)\n",
    "uwh, vwh, pwh = Wh\n",
    "maximum(abs.(Wh))"
   ]
  },
  {
   "cell_type": "code",
   "execution_count": 7,
   "metadata": {},
   "outputs": [
    {
     "data": {
      "text/plain": [
       "0.0"
      ]
     },
     "execution_count": 7,
     "metadata": {},
     "output_type": "execute_result"
    }
   ],
   "source": [
    "parsevalsum2(uwh, grid) + parsevalsum2(vwh, grid) + parsevalsum2(pwh, grid)"
   ]
  },
  {
   "cell_type": "code",
   "execution_count": 38,
   "metadata": {},
   "outputs": [],
   "source": [
    "stepforward!(prob, [], 50)"
   ]
  },
  {
   "cell_type": "code",
   "execution_count": 39,
   "metadata": {},
   "outputs": [
    {
     "data": {
      "text/plain": [
       "63.04150400515189"
      ]
     },
     "execution_count": 39,
     "metadata": {},
     "output_type": "execute_result"
    }
   ],
   "source": [
    "Gh, Wh = decompose_balanced_wave(prob.sol, grid)\n",
    "uwh, vwh, pwh = Wh\n",
    "maximum(abs.(Wh))"
   ]
  },
  {
   "cell_type": "code",
   "execution_count": 40,
   "metadata": {},
   "outputs": [
    {
     "data": {
      "text/plain": [
       "4.666375890040088e-7"
      ]
     },
     "execution_count": 40,
     "metadata": {},
     "output_type": "execute_result"
    }
   ],
   "source": [
    "parsevalsum2(uwh, grid) + parsevalsum2(vwh, grid) + parsevalsum2(pwh, grid)"
   ]
  },
  {
   "cell_type": "code",
   "execution_count": 47,
   "metadata": {},
   "outputs": [
    {
     "data": {
      "text/plain": [
       "4.687428401686771e-13"
      ]
     },
     "execution_count": 47,
     "metadata": {},
     "output_type": "execute_result"
    }
   ],
   "source": [
    "maximum(abs.(Gh + Wh - prob.sol[:,:,2:4]))"
   ]
  },
  {
   "cell_type": "code",
   "execution_count": null,
   "metadata": {},
   "outputs": [],
   "source": []
  }
 ],
 "metadata": {
  "kernelspec": {
   "display_name": "Julia 1.10.5",
   "language": "julia",
   "name": "julia-1.10"
  },
  "language_info": {
   "file_extension": ".jl",
   "mimetype": "application/julia",
   "name": "julia",
   "version": "1.10.5"
  }
 },
 "nbformat": 4,
 "nbformat_minor": 4
}
