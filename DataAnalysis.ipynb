{
 "cells": [
  {
   "cell_type": "code",
   "execution_count": 1,
   "id": "51a43d24-320f-474f-b6a8-fd8ca4e09445",
   "metadata": {
    "tags": []
   },
   "outputs": [
    {
     "name": "stderr",
     "output_type": "stream",
     "text": [
      "\u001b[36m\u001b[1m[ \u001b[22m\u001b[39m\u001b[36m\u001b[1mInfo: \u001b[22m\u001b[39mFourierFlows will use 8 threads\n"
     ]
    }
   ],
   "source": [
    "using CairoMakie;\n",
    "using GeophysicalFlows;\n",
    "\n",
    "include(\"analysis/load_file.jl\")\n",
    "t, x, k = load_packet_analysis_file(\"data/2layer_test.jld2\");"
   ]
  },
  {
   "cell_type": "code",
   "execution_count": 2,
   "id": "f65bdf44-f673-4b3b-9403-b7970006b12f",
   "metadata": {
    "tags": []
   },
   "outputs": [],
   "source": [
    "using JLD2\n",
    "file = jldopen(\"data/2layer_test.jld2\");\n",
    "\n",
    "nlayers = 2;\n",
    "dev = CPU();\n",
    "nx = file[\"grid/nx\"];\n",
    "Lx = file[\"grid/Lx\"];\n",
    "f₀ = file[\"params/f₀\"];\n",
    "g = file[\"params/g\"];\n",
    "H = file[\"params/H\"];\n",
    "ρ = [ρ for ρ in file[\"params/ρ\"]];\n",
    "prob = MultiLayerQG.Problem(nlayers, dev; nx, Lx, f₀, g, H, ρ, aliased_fraction=1/3)\n",
    "grid = prob.grid;\n",
    "vars = prob.vars;\n",
    "params = prob.params;"
   ]
  },
  {
   "cell_type": "code",
   "execution_count": 88,
   "id": "e086147d-0737-47ec-8545-5f7ab5694b74",
   "metadata": {
    "tags": []
   },
   "outputs": [
    {
     "data": {
      "text/plain": [
       "\"time_animation.mp4\""
      ]
     },
     "execution_count": 88,
     "metadata": {},
     "output_type": "execute_result"
    }
   ],
   "source": [
    "Nsnapshots = length(keys(file[\"snapshots/t\"]));\n",
    "frames = keys(file[\"packets/t\"])[2:end];\n",
    "background_frames = keys(file[\"snapshots/t\"]);\n",
    "background_frame_index = 1;\n",
    "\n",
    "q = Observable(Array(vars.q[:, :, 1]))\n",
    "x = [];\n",
    "y = [];\n",
    "fig = Figure(resolution=(600, 600))\n",
    "ax = Axis(fig[1, 1]; title = \"q\")\n",
    "heatmap!(ax, grid.x, grid.y, q; colormap = :balance)\n",
    "scatter!(ax, x, y);\n",
    "record(fig, \"top_layer_pv.mp4\", frames; framerate = 18) do t\n",
    "    MultiLayerQG.updatevars!(prob.vars, prob.params, prob.grid, file[\"snapshots/sol/$t\"]) \n",
    "    q[] = vars.q[:,:,1]\n",
    "end"
   ]
  },
  {
   "cell_type": "code",
   "execution_count": 3,
   "id": "e0545a2c-e8dc-45ef-ac25-68235d347ac1",
   "metadata": {
    "tags": []
   },
   "outputs": [
    {
     "data": {
      "text/plain": [
       "JLDFile C:\\Users\\ndefi\\Documents\\NYU\\Research\\JuliaRaytracing\\data\\2layer_test.jld2 (read-only)\n",
       " ├─📂 eqn\n",
       " │  ├─🔢 L\n",
       " │  ├─🔢 dims\n",
       " │  └─🔢 T\n",
       " ├─📂 clock\n",
       " │  └─🔢 dt\n",
       " ├─📂 grid\n",
       " │  ├─🔢 nx\n",
       " │  └─ ⋯ (5 more entries)\n",
       " └─ ⋯ (3 more entries)"
      ]
     },
     "execution_count": 3,
     "metadata": {},
     "output_type": "execute_result"
    }
   ],
   "source": [
    "file"
   ]
  },
  {
   "cell_type": "code",
   "execution_count": 4,
   "id": "ca62bef0-30d5-477e-8cc3-f19dfdcb326c",
   "metadata": {},
   "outputs": [
    {
     "data": {
      "text/plain": [
       "6-element Vector{String}:\n",
       " \"eqn\"\n",
       " \"clock\"\n",
       " \"grid\"\n",
       " \"params\"\n",
       " \"packets\"\n",
       " \"snapshots\""
      ]
     },
     "execution_count": 4,
     "metadata": {},
     "output_type": "execute_result"
    }
   ],
   "source": [
    "keys(file)"
   ]
  },
  {
   "cell_type": "code",
   "execution_count": 15,
   "id": "6138a8b1-5eda-4ec4-85a8-29cc70dca5ae",
   "metadata": {
    "tags": []
   },
   "outputs": [
    {
     "data": {
      "text/plain": [
       "201"
      ]
     },
     "execution_count": 15,
     "metadata": {},
     "output_type": "execute_result"
    }
   ],
   "source": [
    "length(keys(file[\"snapshots/sol\"]))"
   ]
  },
  {
   "cell_type": "code",
   "execution_count": 11,
   "id": "cf15b874-b6b9-495d-9903-ebf00f25335b",
   "metadata": {
    "tags": []
   },
   "outputs": [
    {
     "data": {
      "text/plain": [
       "3-element Vector{String}:\n",
       " \"t\"\n",
       " \"sol\"\n",
       " \"E\""
      ]
     },
     "execution_count": 11,
     "metadata": {},
     "output_type": "execute_result"
    }
   ],
   "source": [
    "keys(file[\"snapshots\"])"
   ]
  },
  {
   "cell_type": "code",
   "execution_count": null,
   "id": "b2f4313e-80a4-44de-bc8b-2d83ee73bf47",
   "metadata": {},
   "outputs": [],
   "source": [
    "1024*"
   ]
  }
 ],
 "metadata": {
  "kernelspec": {
   "display_name": "Julia 1.6.7",
   "language": "julia",
   "name": "julia-1.6"
  },
  "language_info": {
   "file_extension": ".jl",
   "mimetype": "application/julia",
   "name": "julia",
   "version": "1.6.7"
  }
 },
 "nbformat": 4,
 "nbformat_minor": 5
}
