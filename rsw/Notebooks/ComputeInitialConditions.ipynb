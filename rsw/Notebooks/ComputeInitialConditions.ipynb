{
 "cells": [
  {
   "cell_type": "code",
   "execution_count": 12,
   "id": "2be21cfa-d516-4f17-b3bd-309b19e13bc6",
   "metadata": {},
   "outputs": [
    {
     "data": {
      "text/plain": [
       "compute_balanced_wave_weights (generic function with 1 method)"
      ]
     },
     "execution_count": 12,
     "metadata": {},
     "output_type": "execute_result"
    }
   ],
   "source": [
    "using JLD2\n",
    "using FourierFlows\n",
    "using AbstractFFTs\n",
    "using Printf\n",
    "include(\"../../analysis/Notebooks/AnalysisUtils.jl\")\n",
    "include(\"../RSWUtils.jl\")"
   ]
  },
  {
   "cell_type": "code",
   "execution_count": 39,
   "id": "092352b9-87ce-4e63-ab13-ab51b45d1db6",
   "metadata": {},
   "outputs": [
    {
     "data": {
      "text/plain": [
       "display_parameters (generic function with 1 method)"
      ]
     },
     "execution_count": 39,
     "metadata": {},
     "output_type": "execute_result"
    }
   ],
   "source": [
    "function display_parameters(run_directory)\n",
    "    ic_file = nothing\n",
    "    try\n",
    "        ic_file = jldopen(@sprintf(\"%s/rsw.000000.jld2\", run_directory))\n",
    "    catch\n",
    "        println(@sprintf(\"File %s does not exist, skipping\", run_directory))\n",
    "        return\n",
    "    end\n",
    "    f0, Cg2 = read_rsw_params(run_directory)\n",
    "    ν, nν = read_rsw_dissipation(run_directory)\n",
    "    nx = ic_file[\"grid/nx\"]\n",
    "    Lx = ic_file[\"grid/Lx\"]\n",
    "    ic = ic_file[\"snapshots/sol/0\"]\n",
    "    println(@sprintf(\"f0 = %f, Cg2 = %f, ν = %.2e, nν = %f\", f0, Cg2, ν, nν))\n",
    "    close(ic_file)\n",
    "    \n",
    "    grid = TwoDGrid(; nx, Lx)\n",
    "    params = (; f=f0, Cg2)\n",
    "    \n",
    "    uh = ic[:,:,1]\n",
    "    vh = ic[:,:,2]\n",
    "    ηh = ic[:,:,3]\n",
    "    \n",
    "    ((ugh, vgh, ηgh), (uwh, vwh, ηwh)) = wave_balanced_decomposition(uh, vh, ηh, grid, params)\n",
    "    \n",
    "    ug = irfft(ugh, nx)\n",
    "    uw = irfft(uwh, nx)\n",
    "    println(@sprintf(\"max |ug| = %f, max |uw| = %f\", maximum(abs.(ug)), maximum(abs.(uw))))\n",
    "end"
   ]
  },
  {
   "cell_type": "code",
   "execution_count": 40,
   "id": "291860ec-68b9-4166-afcf-020ed1166283",
   "metadata": {},
   "outputs": [
    {
     "name": "stdout",
     "output_type": "stream",
     "text": [
      "/scratch/nad9961/rsw/57478245/1/\n",
      "f0 = 1.500000, Cg2 = 0.250000, ν = 5.59e-19, nν = 4.000000\n",
      "max |ug| = 0.300000, max |uw| = 0.100000\n",
      "===========\n",
      "/scratch/nad9961/rsw/57478245/2/\n",
      "f0 = 1.500000, Cg2 = 0.250000, ν = 6.29e-19, nν = 4.000000\n",
      "max |ug| = 0.350000, max |uw| = 0.100000\n",
      "===========\n",
      "/scratch/nad9961/rsw/57478245/3/\n",
      "f0 = 1.500000, Cg2 = 0.250000, ν = 6.99e-19, nν = 4.000000\n",
      "max |ug| = 0.400000, max |uw| = 0.100000\n",
      "===========\n",
      "/scratch/nad9961/rsw/57478245/4/\n",
      "f0 = 1.500000, Cg2 = 0.250000, ν = 7.69e-19, nν = 4.000000\n",
      "max |ug| = 0.450000, max |uw| = 0.100000\n",
      "===========\n",
      "/scratch/nad9961/rsw/57478245/5/\n",
      "f0 = 1.500000, Cg2 = 0.250000, ν = 8.39e-19, nν = 4.000000\n",
      "max |ug| = 0.500000, max |uw| = 0.100000\n",
      "===========\n",
      "/scratch/nad9961/rsw/57478245/6/\n",
      "f0 = 1.500000, Cg2 = 0.250000, ν = 9.09e-19, nν = 4.000000\n",
      "max |ug| = 0.550000, max |uw| = 0.100000\n",
      "===========\n",
      "/scratch/nad9961/rsw/57478245/7/\n",
      "f0 = 1.500000, Cg2 = 0.250000, ν = 9.79e-19, nν = 4.000000\n",
      "max |ug| = 0.600000, max |uw| = 0.100000\n",
      "===========\n",
      "/scratch/nad9961/rsw/57478245/8/\n",
      "f0 = 1.500000, Cg2 = 0.250000, ν = 1.05e-18, nν = 4.000000\n",
      "max |ug| = 0.650000, max |uw| = 0.100000\n",
      "===========\n",
      "/scratch/nad9961/rsw/57478245/9/\n",
      "f0 = 1.500000, Cg2 = 0.250000, ν = 1.12e-18, nν = 4.000000\n",
      "max |ug| = 0.700000, max |uw| = 0.100000\n",
      "===========\n",
      "/scratch/nad9961/rsw/57478245/10/\n",
      "f0 = 1.500000, Cg2 = 0.250000, ν = 1.19e-18, nν = 4.000000\n",
      "max |ug| = 0.750000, max |uw| = 0.100000\n",
      "===========\n",
      "/scratch/nad9961/rsw/57478245/11/\n",
      "File /scratch/nad9961/rsw/57478245/11/ does not exist, skipping\n",
      "===========\n",
      "/scratch/nad9961/rsw/57478245/12/\n",
      "File /scratch/nad9961/rsw/57478245/12/ does not exist, skipping\n",
      "===========\n"
     ]
    },
    {
     "name": "stderr",
     "output_type": "stream",
     "text": [
      "\u001b[33m\u001b[1m┌ \u001b[22m\u001b[39m\u001b[33m\u001b[1mWarning: \u001b[22m\u001b[39mOpening file with JLD2.MmapIO failed, falling back to IOStream\n",
      "\u001b[33m\u001b[1m└ \u001b[22m\u001b[39m\u001b[90m@ JLD2 /ext3/pkgs/packages/JLD2/OP0XX/src/JLD2.jl:175\u001b[39m\n",
      "\u001b[33m\u001b[1m┌ \u001b[22m\u001b[39m\u001b[33m\u001b[1mWarning: \u001b[22m\u001b[39mOpening file with JLD2.MmapIO failed, falling back to IOStream\n",
      "\u001b[33m\u001b[1m└ \u001b[22m\u001b[39m\u001b[90m@ JLD2 /ext3/pkgs/packages/JLD2/OP0XX/src/JLD2.jl:175\u001b[39m\n"
     ]
    }
   ],
   "source": [
    "for run_idx = 1:12\n",
    "    run_directory = @sprintf(\"/scratch/nad9961/rsw/57478245/%d/\", run_idx)\n",
    "    println(run_directory)\n",
    "    display_parameters(run_directory)\n",
    "    println(\"===========\")\n",
    "end    "
   ]
  },
  {
   "cell_type": "code",
   "execution_count": 42,
   "id": "049347c2-3397-4277-a222-a04b7ab778a4",
   "metadata": {},
   "outputs": [
    {
     "name": "stdout",
     "output_type": "stream",
     "text": [
      "/vast/nad9961/rsw/59916630/1/\n",
      "f0 = 1.500000, Cg2 = 0.250000, ν = 6.88e-24, nν = 4.000000\n",
      "max |ug| = 0.300000, max |uw| = 0.030000\n",
      "===========\n",
      "/vast/nad9961/rsw/59957924/1/\n",
      "f0 = 1.500000, Cg2 = 0.250000, ν = 1.77e-21, nν = 4.000000\n",
      "max |ug| = 0.300000, max |uw| = 0.030000\n",
      "===========\n",
      "/vast/nad9961/rsw/59970376/1/\n",
      "f0 = 1.500000, Cg2 = 0.250000, ν = 1.77e-21, nν = 4.000000\n",
      "max |ug| = 0.300000, max |uw| = 0.030000\n",
      "===========\n",
      "/vast/nad9961/rsw/60300423/1/\n",
      "f0 = 3.000000, Cg2 = 1.000000, ν = 2.15e-22, nν = 4.000000\n",
      "max |ug| = 0.030000, max |uw| = 0.010000\n",
      "===========\n",
      "/vast/nad9961/rsw/60577145/\n",
      "f0 = 3.000000, Cg2 = 1.000000, ν = 9.79e-19, nν = 4.000000\n",
      "max |ug| = 0.300000, max |uw| = 0.050000\n",
      "===========\n",
      "/vast/nad9961/rsw/60839900/\n",
      "f0 = 3.000000, Cg2 = 1.000000, ν = 1.28e-22, nν = 4.000000\n",
      "max |ug| = 0.100000, max |uw| = 0.020000\n",
      "===========\n"
     ]
    }
   ],
   "source": [
    "ids_1 = [\"59916630\", \"59957924\", \"59970376\", \"60300423\"]\n",
    "for id=ids_1\n",
    "    run_directory = @sprintf(\"/vast/nad9961/rsw/%s/1/\", id)\n",
    "    println(run_directory)\n",
    "    display_parameters(run_directory)\n",
    "    println(\"===========\") \n",
    "end\n",
    "ids = [\"60577145\", \"60839900\"]\n",
    "for id=ids\n",
    "    run_directory = @sprintf(\"/vast/nad9961/rsw/%s/\", id)\n",
    "    println(run_directory)\n",
    "    display_parameters(run_directory)\n",
    "    println(\"===========\") \n",
    "end"
   ]
  },
  {
   "cell_type": "code",
   "execution_count": null,
   "id": "eaa32275-5644-4883-b101-e87504a0f69d",
   "metadata": {},
   "outputs": [],
   "source": []
  }
 ],
 "metadata": {
  "kernelspec": {
   "display_name": "Julia 1.10.5",
   "language": "julia",
   "name": "julia-1.10"
  },
  "language_info": {
   "file_extension": ".jl",
   "mimetype": "application/julia",
   "name": "julia",
   "version": "1.10.5"
  }
 },
 "nbformat": 4,
 "nbformat_minor": 5
}
