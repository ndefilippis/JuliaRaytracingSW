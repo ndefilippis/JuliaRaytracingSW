{
 "cells": [
  {
   "cell_type": "code",
   "execution_count": 17,
   "id": "c349427f-34cc-4985-b86c-763c8f3f8512",
   "metadata": {},
   "outputs": [
    {
     "name": "stdout",
     "output_type": "stream",
     "text": [
      "Total steps: 228165. Spin-up steps: 57041, Output every 855 steps. Total: 200 output frames. Diagnostics every 142 steps, max writes per file: 3000\n",
      "Total time: 800.000000, Time step: 0.003506, Estimated CFL: 0.100\n",
      "Packets: 100. Output every 285 steps. Total 600 packet frames\n"
     ]
    },
    {
     "ename": "LoadError",
     "evalue": "MethodError: no method matching Main.GPURaytracing.Velocity(::Matrix{Float32}, ::Matrix{Float32})",
     "output_type": "error",
     "traceback": [
      "MethodError: no method matching Main.GPURaytracing.Velocity(::Matrix{Float32}, ::Matrix{Float32})",
      "",
      "Stacktrace:",
      " [1] start_raytracing!()",
      "   @ Main.RaytracingDriver ~/JuliaRaytracingSW/raytracing/RaytracingDriver.jl:182",
      " [2] start!()",
      "   @ Main ./In[17]:16",
      " [3] top-level scope",
      "   @ In[17]:19"
     ]
    }
   ],
   "source": [
    "using Revise\n",
    "__revise_mode__ = :eval\n",
    "\n",
    "includet(\"../../utils/IFMAB3.jl\")\n",
    "includet(\"../../utils/SequencedOutputs.jl\")\n",
    "includet(\"../../raytracing/GPURaytracing.jl\")\n",
    "includet(\"../RaytracingParameters.jl\")\n",
    "includet(\"../RotatingShallowWater.jl\")\n",
    "includet(\"../../raytracing/RaytracingDriver.jl\")\n",
    "includet(\"../RSWRaytracingDriver.jl\")\n",
    "\n",
    "using .RSWRaytracingDriver\n",
    "using .RaytracingDriver\n",
    "\n",
    "function start!()\n",
    "    start_raytracing!()\n",
    "end\n",
    "\n",
    "start!()"
   ]
  },
  {
   "cell_type": "code",
   "execution_count": null,
   "id": "cb295943-856d-4329-a9f0-2d76301f8f7a",
   "metadata": {},
   "outputs": [],
   "source": []
  }
 ],
 "metadata": {
  "kernelspec": {
   "display_name": "Julia 1.10.5",
   "language": "julia",
   "name": "julia-1.10"
  },
  "language_info": {
   "file_extension": ".jl",
   "mimetype": "application/julia",
   "name": "julia",
   "version": "1.10.5"
  }
 },
 "nbformat": 4,
 "nbformat_minor": 5
}
