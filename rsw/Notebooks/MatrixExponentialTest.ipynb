{
 "cells": [
  {
   "cell_type": "code",
   "execution_count": 2,
   "id": "58200a41-a8d5-4f0d-8255-1b1fdec334c6",
   "metadata": {},
   "outputs": [
    {
     "data": {
      "text/plain": [
       "TwoDimensionalGrid\n",
       "  ├───────────────── Device: CPU\n",
       "  ├────────────── FloatType: Float64\n",
       "  ├────────── size (Lx, Ly): (6.283185307179586, 6.283185307179586)\n",
       "  ├──── resolution (nx, ny): (128, 128)\n",
       "  ├── grid spacing (dx, dy): (0.04908738521234052, 0.04908738521234052)\n",
       "  ├───────────────── domain: x ∈ [-3.141592653589793, 3.0925052683774528]\n",
       "  |                          y ∈ [-3.141592653589793, 3.0925052683774528]\n",
       "  └─ aliased fraction: 0.3333333333333333"
      ]
     },
     "execution_count": 2,
     "metadata": {},
     "output_type": "execute_result"
    }
   ],
   "source": [
    "using FourierFlows\n",
    "using CUDA\n",
    "grid = TwoDGrid(Lx=2π, nx=128)"
   ]
  },
  {
   "cell_type": "code",
   "execution_count": 35,
   "id": "7e7f5ae9-be37-4a34-ab2e-e02e3f97361e",
   "metadata": {},
   "outputs": [],
   "source": [
    "using StaticArrays\n",
    "function expMatrixSA(Nk, Nl)\n",
    "    dt = 0.1\n",
    "    ic(k, l) = @SVector rand(3)\n",
    "    sol = cu(ic.(1:Nk, (1:Nl)'))\n",
    "    Lop(k, l) = SMatrix{3,3}([0 1 1im*k; -1 0 1im*l; -1im*k -1im*l 0])\n",
    "    expLdt = exp.(cu(dt * Lop.(1:Nk, (1:Nl)')))\n",
    "    return expLdt, sol\n",
    "end\n",
    "\n",
    "function expMatrixMul1(A, sol)\n",
    "    return A * sol\n",
    "end\n",
    "\n",
    "function expMatrixMul2(A, sol)\n",
    "    return @views sum(A .* sol, dims=4)[:, :, :, 1]\n",
    "end\n",
    "\n",
    "function expMatrixBanded(Nk, Nl)\n",
    "    dt = 0.1\n",
    "    Nk = 5\n",
    "    Nl = 5\n",
    "    sol = CUDA.rand(Nk, Nl, 3)\n",
    "    Lop(k, l) = [0 1 1im*k; -1 0 1im*l; -1im*k -1im*l 0]\n",
    "    A = zeros(Complex{Float64}, Nk, Nl, 3, 3)\n",
    "    for i=1:Nk\n",
    "        for j=1:Nl\n",
    "            A[i, j, :, :] .= exp(dt * Lop(i, j))\n",
    "        end\n",
    "    end\n",
    "    expdtL = cu(A)\n",
    "    return expdtL, sol\n",
    "end\n",
    "\n",
    "N = 512\n",
    "A, x = expMatrixSA(N, N)\n",
    "B, y = expMatrixBanded(N, N)\n",
    "using BenchmarkTools"
   ]
  },
  {
   "cell_type": "code",
   "execution_count": 36,
   "id": "47c96f1c-e5d7-4191-84c0-76816be916b3",
   "metadata": {},
   "outputs": [
    {
     "data": {
      "text/plain": [
       "BenchmarkTools.Trial: 235 samples with 1 evaluation.\n",
       " Range \u001b[90m(\u001b[39m\u001b[36m\u001b[1mmin\u001b[22m\u001b[39m … \u001b[35mmax\u001b[39m\u001b[90m):  \u001b[39m\u001b[36m\u001b[1m20.945 ms\u001b[22m\u001b[39m … \u001b[35m 23.078 ms\u001b[39m  \u001b[90m┊\u001b[39m GC \u001b[90m(\u001b[39mmin … max\u001b[90m): \u001b[39m0.00% … 0.00%\n",
       " Time  \u001b[90m(\u001b[39m\u001b[34m\u001b[1mmedian\u001b[22m\u001b[39m\u001b[90m):     \u001b[39m\u001b[34m\u001b[1m21.270 ms               \u001b[22m\u001b[39m\u001b[90m┊\u001b[39m GC \u001b[90m(\u001b[39mmedian\u001b[90m):    \u001b[39m0.00%\n",
       " Time  \u001b[90m(\u001b[39m\u001b[32m\u001b[1mmean\u001b[22m\u001b[39m ± \u001b[32mσ\u001b[39m\u001b[90m):   \u001b[39m\u001b[32m\u001b[1m21.271 ms\u001b[22m\u001b[39m ± \u001b[32m133.221 μs\u001b[39m  \u001b[90m┊\u001b[39m GC \u001b[90m(\u001b[39mmean ± σ\u001b[90m):  \u001b[39m0.00% ± 0.00%\n",
       "\n",
       "  \u001b[39m \u001b[39m \u001b[39m \u001b[39m \u001b[39m \u001b[39m \u001b[39m \u001b[39m \u001b[39m \u001b[39m \u001b[39m \u001b[39m \u001b[39m \u001b[39m \u001b[39m \u001b[39m \u001b[39m \u001b[39m \u001b[39m \u001b[39m \u001b[39m \u001b[39m \u001b[39m \u001b[39m \u001b[39m \u001b[39m \u001b[39m \u001b[39m \u001b[39m \u001b[39m \u001b[39m \u001b[39m \u001b[39m \u001b[39m \u001b[39m \u001b[39m \u001b[39m \u001b[39m \u001b[39m \u001b[39m \u001b[39m \u001b[39m \u001b[39m▄\u001b[39m▆\u001b[34m█\u001b[39m\u001b[39m▁\u001b[39m \u001b[39m \u001b[39m \u001b[39m \u001b[39m \u001b[39m \u001b[39m \u001b[39m \u001b[39m \u001b[39m \u001b[39m \u001b[39m \u001b[39m \u001b[39m \u001b[39m \u001b[39m \n",
       "  \u001b[39m▃\u001b[39m▂\u001b[39m▃\u001b[39m▃\u001b[39m▁\u001b[39m▁\u001b[39m▁\u001b[39m▁\u001b[39m▁\u001b[39m▁\u001b[39m▁\u001b[39m▁\u001b[39m▁\u001b[39m▁\u001b[39m▁\u001b[39m▁\u001b[39m▁\u001b[39m▁\u001b[39m▁\u001b[39m▁\u001b[39m▁\u001b[39m▁\u001b[39m▁\u001b[39m▁\u001b[39m▁\u001b[39m▁\u001b[39m▁\u001b[39m▁\u001b[39m▁\u001b[39m▁\u001b[39m▁\u001b[39m▁\u001b[39m▁\u001b[39m▁\u001b[39m▁\u001b[39m▁\u001b[39m▁\u001b[39m▂\u001b[39m▃\u001b[39m▃\u001b[39m▆\u001b[39m▇\u001b[39m█\u001b[39m█\u001b[34m█\u001b[39m\u001b[39m█\u001b[39m▇\u001b[39m▅\u001b[39m▃\u001b[39m▃\u001b[39m▃\u001b[39m▁\u001b[39m▁\u001b[39m▂\u001b[39m▁\u001b[39m▁\u001b[39m▁\u001b[39m▁\u001b[39m▂\u001b[39m▂\u001b[39m \u001b[39m▃\n",
       "  20.9 ms\u001b[90m         Histogram: frequency by time\u001b[39m         21.4 ms \u001b[0m\u001b[1m<\u001b[22m\n",
       "\n",
       " Memory estimate\u001b[90m: \u001b[39m\u001b[33m2.27 KiB\u001b[39m, allocs estimate\u001b[90m: \u001b[39m\u001b[33m79\u001b[39m."
      ]
     },
     "execution_count": 36,
     "metadata": {},
     "output_type": "execute_result"
    }
   ],
   "source": [
    "@benchmark CUDA.@sync expMatrixMul1(A, x)"
   ]
  },
  {
   "cell_type": "code",
   "execution_count": 37,
   "id": "b168ba2f-d964-4ee3-83f7-cf40cff7b52d",
   "metadata": {},
   "outputs": [
    {
     "data": {
      "text/plain": [
       "BenchmarkTools.Trial: 10000 samples with 1 evaluation.\n",
       " Range \u001b[90m(\u001b[39m\u001b[36m\u001b[1mmin\u001b[22m\u001b[39m … \u001b[35mmax\u001b[39m\u001b[90m):  \u001b[39m\u001b[36m\u001b[1m50.948 μs\u001b[22m\u001b[39m … \u001b[35m971.538 μs\u001b[39m  \u001b[90m┊\u001b[39m GC \u001b[90m(\u001b[39mmin … max\u001b[90m): \u001b[39m0.00% … 0.00%\n",
       " Time  \u001b[90m(\u001b[39m\u001b[34m\u001b[1mmedian\u001b[22m\u001b[39m\u001b[90m):     \u001b[39m\u001b[34m\u001b[1m52.708 μs               \u001b[22m\u001b[39m\u001b[90m┊\u001b[39m GC \u001b[90m(\u001b[39mmedian\u001b[90m):    \u001b[39m0.00%\n",
       " Time  \u001b[90m(\u001b[39m\u001b[32m\u001b[1mmean\u001b[22m\u001b[39m ± \u001b[32mσ\u001b[39m\u001b[90m):   \u001b[39m\u001b[32m\u001b[1m53.391 μs\u001b[22m\u001b[39m ± \u001b[32m 12.167 μs\u001b[39m  \u001b[90m┊\u001b[39m GC \u001b[90m(\u001b[39mmean ± σ\u001b[90m):  \u001b[39m0.00% ± 0.00%\n",
       "\n",
       "  \u001b[39m \u001b[39m \u001b[39m \u001b[39m \u001b[39m \u001b[39m \u001b[39m \u001b[39m▂\u001b[39m▃\u001b[39m▆\u001b[39m▇\u001b[39m▇\u001b[39m█\u001b[39m▇\u001b[39m▆\u001b[34m▄\u001b[39m\u001b[39m▂\u001b[39m▁\u001b[39m \u001b[39m \u001b[39m \u001b[32m \u001b[39m\u001b[39m \u001b[39m \u001b[39m \u001b[39m \u001b[39m \u001b[39m \u001b[39m \u001b[39m \u001b[39m \u001b[39m \u001b[39m \u001b[39m \u001b[39m \u001b[39m \u001b[39m \u001b[39m \u001b[39m \u001b[39m \u001b[39m \u001b[39m \u001b[39m \u001b[39m \u001b[39m \u001b[39m \u001b[39m \u001b[39m \u001b[39m \u001b[39m \u001b[39m \u001b[39m \u001b[39m \u001b[39m \u001b[39m \u001b[39m \u001b[39m \u001b[39m \u001b[39m \u001b[39m \u001b[39m \u001b[39m \n",
       "  \u001b[39m▁\u001b[39m▁\u001b[39m▂\u001b[39m▂\u001b[39m▄\u001b[39m▅\u001b[39m█\u001b[39m█\u001b[39m█\u001b[39m█\u001b[39m█\u001b[39m█\u001b[39m█\u001b[39m█\u001b[39m█\u001b[34m█\u001b[39m\u001b[39m█\u001b[39m█\u001b[39m▇\u001b[39m▆\u001b[39m▅\u001b[32m▅\u001b[39m\u001b[39m▄\u001b[39m▄\u001b[39m▃\u001b[39m▃\u001b[39m▃\u001b[39m▄\u001b[39m▅\u001b[39m▅\u001b[39m▆\u001b[39m▅\u001b[39m▅\u001b[39m▄\u001b[39m▄\u001b[39m▄\u001b[39m▃\u001b[39m▃\u001b[39m▃\u001b[39m▄\u001b[39m▃\u001b[39m▂\u001b[39m▂\u001b[39m▂\u001b[39m▂\u001b[39m▂\u001b[39m▂\u001b[39m▂\u001b[39m▂\u001b[39m▁\u001b[39m▁\u001b[39m▁\u001b[39m▁\u001b[39m▁\u001b[39m▁\u001b[39m▁\u001b[39m▁\u001b[39m▁\u001b[39m▁\u001b[39m▁\u001b[39m \u001b[39m▃\n",
       "  50.9 μs\u001b[90m         Histogram: frequency by time\u001b[39m           58 μs \u001b[0m\u001b[1m<\u001b[22m\n",
       "\n",
       " Memory estimate\u001b[90m: \u001b[39m\u001b[33m4.33 KiB\u001b[39m, allocs estimate\u001b[90m: \u001b[39m\u001b[33m161\u001b[39m."
      ]
     },
     "execution_count": 37,
     "metadata": {},
     "output_type": "execute_result"
    }
   ],
   "source": [
    "@benchmark CUDA.@sync  expMatrixMul2(B, y)"
   ]
  },
  {
   "cell_type": "code",
   "execution_count": 21,
   "id": "9cb8a14d-fa91-4f6e-be62-d611fedf7f52",
   "metadata": {},
   "outputs": [
    {
     "data": {
      "text/plain": [
       "5×5×3×1 CuArray{ComplexF32, 4, CUDA.DeviceMemory}:\n",
       "[:, :, 1, 1] =\n",
       " 0.107478+0.0102278im    1.07586+0.107229im    …   0.16392+0.0188252im\n",
       " 0.982304+0.180058im   0.0299058+0.00558969im     0.142103+0.0285178im\n",
       "  1.06252+0.2843im      0.395983+0.106748im       0.258749+0.0724093im\n",
       " 0.850911+0.29511im      1.06709+0.369927im        1.08697+0.382423im\n",
       " 0.843941+0.354623im     0.29104+0.121515im       0.636366+0.265032im\n",
       "\n",
       "[:, :, 2, 1] =\n",
       " 0.114782+0.0120717im   0.708698+0.150507im   …  0.238262+0.117779im\n",
       " 0.217744+0.0217021im   0.475367+0.0978605im     0.579212+0.278117im\n",
       " 0.288355+0.0272679im   0.145246+0.0290777im     0.487837+0.228379im\n",
       " 0.127684+0.0114689im    0.37884+0.073994im       0.53422+0.244712im\n",
       " 0.262353+0.022409im   0.0524999+0.0100369im     0.501206+0.225433im\n",
       "\n",
       "[:, :, 3, 1] =\n",
       "  0.168779-0.0334771im  0.774097-0.224272im   …   1.12612-0.601366im\n",
       " 0.0715153-0.0214194im  0.252472-0.0982192im     0.269443-0.168405im\n",
       "  0.652264-0.258392im   0.727531-0.351671im       1.08413-0.770101im\n",
       "  0.584047-0.284265im   0.759447-0.433873im      0.854635-0.67419im\n",
       "  0.325773-0.185713im   0.209996-0.136865im      0.643156-0.552995im"
      ]
     },
     "execution_count": 21,
     "metadata": {},
     "output_type": "execute_result"
    }
   ],
   "source": [
    "\n",
    "#cat(eachslice(result, dims=1); dims=3)\n",
    "#expLdt = exp.(dt * Lop.(1:Nk, (1:Nl)'))\n",
    "#exp2Ldt = exp.(2 * dt * cu(Lop.(1:Nk, (1:Nl)')))\n",
    "#result = expLdt * sol\n",
    "#return getindex.(result, 2)"
   ]
  },
  {
   "cell_type": "code",
   "execution_count": 45,
   "id": "1f32eb4f-96d2-407f-a316-7a1ebf1d6826",
   "metadata": {},
   "outputs": [
    {
     "name": "stdout",
     "output_type": "stream",
     "text": [
      "ComplexF64[1.0 + 0.0im 1.7182818284590455 + 0.0im 0.0 + 1.7182818284590453im; -0.6321205588285577 + 0.0im 1.0 + 0.0im 0.0 + 0.6321205588285577im; 0.0 - 0.6321205588285578im 0.0 - 1.7182818284590453im 2.0861612696304874 + 0.0im]\n",
      "ComplexF64[1.0 + 0.0im 1.7182818284590455 + 0.0im 0.0 + 1.7182818284590453im; -0.6321205588285577 + 0.0im 1.0 + 0.0im 0.0 + 0.6321205588285577im; 0.0 - 0.6321205588285578im 0.0 - 1.7182818284590453im 2.0861612696304874 + 0.0im]\n",
      "ComplexF64[1.0 + 0.0im 2.718281828459045 + 0.0im 0.5403023058681398 + 0.8414709848078965im; 0.36787944117144233 + 0.0im 1.0 + 0.0im 0.5403023058681398 + 0.8414709848078965im; 0.5403023058681398 - 0.8414709848078965im 0.5403023058681398 - 0.8414709848078965im 1.0 + 0.0im]\n"
     ]
    }
   ],
   "source": [
    "println(A[1,1])\n",
    "println(exp(Lop(1,1)))\n",
    "println(exp.(Lop(1,1)))"
   ]
  },
  {
   "cell_type": "code",
   "execution_count": 31,
   "id": "b3e1eda6-25a4-46ca-9d7b-626e7f152d86",
   "metadata": {},
   "outputs": [
    {
     "data": {
      "text/plain": [
       "2×2 SMatrix{2, 2, Int64, 4} with indices SOneTo(2)×SOneTo(2):\n",
       " 1  3\n",
       " 2  4"
      ]
     },
     "execution_count": 31,
     "metadata": {},
     "output_type": "execute_result"
    }
   ],
   "source": [
    "SMatrix{2,2}(1,2,3,4)"
   ]
  },
  {
   "cell_type": "code",
   "execution_count": 191,
   "id": "95992495-b3c8-43d9-840a-5dd100b6f2f5",
   "metadata": {},
   "outputs": [
    {
     "name": "stdout",
     "output_type": "stream",
     "text": [
      "256\n",
      "16 16\n",
      "17 32\n",
      "272 512\n"
     ]
    },
    {
     "data": {
      "text/plain": [
       "CUDA.HostKernel for kernel_exp(CuDeviceArray{ComplexF32, 4, 1}, CuDeviceArray{ComplexF32, 4, 1}, Int64, Int64, Float32)"
      ]
     },
     "execution_count": 191,
     "metadata": {},
     "output_type": "execute_result"
    }
   ],
   "source": [
    "Nx = 257\n",
    "Ny = 512\n",
    "m = 3\n",
    "A = CUDA.rand(Float32, Nx, Ny, m, m) + 1im * CUDA.rand(Float32, Nx, Ny, m, m)\n",
    "B = CUDA.zeros(Complex{Float32}, Nx, Ny, m, m)\n",
    "#x = CUDA.ones(4, 4, 2)\n",
    "function kernel_exp(A, B, Nx, Ny, dt)\n",
    "    i = blockDim().x * (blockIdx().x - 1) + threadIdx().x\n",
    "    j = blockDim().y * (blockIdx().y - 1) + threadIdx().y\n",
    "    if i > Nx || j > Ny\n",
    "        return\n",
    "    end\n",
    "    @inbounds Lkj = SMatrix{3, 3}(@view(A[i, j, :, :]))\n",
    "    @inbounds @view(B[i, j, :, :]) .= CUDA.exp(dt * Lkj)\n",
    "    return\n",
    "end\n",
    "\n",
    "config_kernel = @cuda launch=false kernel_exp(A, B)\n",
    "max_threads = CUDA.maxthreads(config_kernel)\n",
    "println(max_threads)\n",
    "\n",
    "thread_size = 2^(floor(Int, log2(max_threads)/2))\n",
    "num_threads_x = min(thread_size, Nx)\n",
    "num_threads_y = min(thread_size, Ny)\n",
    "num_blocks_x = cld(Nx, num_threads_x)\n",
    "num_blocks_y = cld(Ny, num_threads_y)\n",
    "println(num_threads_x, \" \", num_threads_y)\n",
    "println(num_blocks_x, \" \", num_blocks_y)\n",
    "println(num_blocks_x * num_threads_x, \" \", num_blocks_y * num_threads_y)\n",
    "@cuda threads=(num_threads_x, num_threads_y) blocks=(num_blocks_x, num_blocks_y) kernel_exp(A, B, Nx, Ny, 0.01f0)"
   ]
  },
  {
   "cell_type": "code",
   "execution_count": 190,
   "id": "bc2e4c34-8eed-47c5-a934-80a2ebb8d9ea",
   "metadata": {},
   "outputs": [
    {
     "data": {
      "text/plain": [
       "6.0"
      ]
     },
     "execution_count": 190,
     "metadata": {},
     "output_type": "execute_result"
    }
   ],
   "source": [
    "log2(2^6)"
   ]
  },
  {
   "cell_type": "code",
   "execution_count": 156,
   "id": "aec02e56-8e0e-4b22-9ea9-c0612437bf4b",
   "metadata": {},
   "outputs": [
    {
     "data": {
      "text/plain": [
       "12.5"
      ]
     },
     "execution_count": 156,
     "metadata": {},
     "output_type": "execute_result"
    }
   ],
   "source": [
    "20^2/32"
   ]
  },
  {
   "cell_type": "code",
   "execution_count": 157,
   "id": "57e20188-ab01-4eab-a0d3-16afacf1d0af",
   "metadata": {},
   "outputs": [
    {
     "data": {
      "text/plain": [
       "10"
      ]
     },
     "execution_count": 157,
     "metadata": {},
     "output_type": "execute_result"
    }
   ],
   "source": [
    "cld(floor(Int, sqrt(640))^2,)"
   ]
  },
  {
   "cell_type": "code",
   "execution_count": 41,
   "id": "08948913-9df4-44ba-b0d9-9fda84193e3f",
   "metadata": {},
   "outputs": [
    {
     "data": {
      "text/plain": [
       "3-element SVector{3, Float64} with indices SOneTo(3):\n",
       " 0.1548346425381577\n",
       " 0.535549285243215\n",
       " 0.20345566198433562"
      ]
     },
     "execution_count": 41,
     "metadata": {},
     "output_type": "execute_result"
    }
   ],
   "source": [
    "using StaticArrays\n",
    "\n",
    "A = @SVector rand(3)"
   ]
  },
  {
   "cell_type": "code",
   "execution_count": 16,
   "id": "8bbdd2be-5eb1-49e0-82b8-c289ba7d0e9f",
   "metadata": {},
   "outputs": [
    {
     "data": {
      "text/plain": [
       "2-element Vector{Float64}:\n",
       " 2.0\n",
       " 2.0"
      ]
     },
     "execution_count": 16,
     "metadata": {},
     "output_type": "execute_result"
    }
   ],
   "source": [
    "\n",
    "A[1, 1, :, :] .= [1 1; 0 1]\n",
    "A[2, 1, :, :] .= [2 1; 0 1]\n",
    "x[1, 1, :] = [1; 2]\n",
    "x[2, 1, :] = [2; 1]\n",
    "y = sum(A .* x, dims=4)[:,:,:,1]\n",
    "y[1, 1, :]"
   ]
  },
  {
   "cell_type": "code",
   "execution_count": 38,
   "id": "7391078b-e570-4777-bb15-76d33c9eaf8b",
   "metadata": {},
   "outputs": [
    {
     "data": {
      "text/plain": [
       "2-element Vector{Int64}:\n",
       " 3\n",
       " 2"
      ]
     },
     "execution_count": 38,
     "metadata": {},
     "output_type": "execute_result"
    }
   ],
   "source": [
    "[1 1; 0 1] * [1; 2]"
   ]
  },
  {
   "cell_type": "code",
   "execution_count": 74,
   "id": "b728cbe0-b162-42d6-b5d3-84d277c7bada",
   "metadata": {},
   "outputs": [
    {
     "name": "stdout",
     "output_type": "stream",
     "text": [
      "  0.000147 seconds (47 CPU allocations: 1.344 KiB)\n"
     ]
    },
    {
     "data": {
      "text/plain": [
       "true"
      ]
     },
     "execution_count": 74,
     "metadata": {},
     "output_type": "execute_result"
    }
   ],
   "source": [
    "using CUDA\n",
    "using StaticArrays\n",
    "\n",
    "function mv_mul_kernel(y, A, x, Nx, Ny)\n",
    "    i = blockDim().x * (blockIdx().x - 1) + threadIdx().x\n",
    "    j = blockDim().y * (blockIdx().y - 1) + threadIdx().y\n",
    "    if i > Nx || j > Ny\n",
    "        return\n",
    "    end\n",
    "    @inbounds Lkj = SMatrix{3, 3}(@view(A[i, j, :, :]))\n",
    "    @inbounds xkj = SVector{3}(@view(x[i, j, :]))\n",
    "    @inbounds @view(y[i, j, :]) .= Lkj * xkj\n",
    "    return\n",
    "end\n",
    "\n",
    "function mvmul!(y, A, x)\n",
    "    y .= dropdims(sum(permutedims(A, [1, 2, 4, 3]) .* x, dims=3), dims=3)\n",
    "end\n",
    "\n",
    "Nx = 257\n",
    "Ny = 512\n",
    "m = 3\n",
    "A = CUDA.rand(Complex{Float32}, Nx, Ny, m, m)\n",
    "x = CUDA.rand(Complex{Float32}, Nx, Ny, m)\n",
    "orig_x = deepcopy(x)\n",
    "#y = similar(x)\n",
    "\n",
    "config_kernel = @cuda launch=false mv_mul_kernel(x, A, x, Nx, Ny)\n",
    "max_threads = CUDA.maxthreads(config_kernel)\n",
    "thread_size = 2^(floor(Int, log2(max_threads)/2))\n",
    "num_threads_x = min(thread_size, Nx)\n",
    "num_threads_y = min(thread_size, Ny)\n",
    "num_blocks_x = cld(Nx, num_threads_x)\n",
    "num_blocks_y = cld(Ny, num_threads_y)\n",
    "@CUDA.time CUDA.@sync begin\n",
    "    @cuda threads=(num_threads_x, num_threads_y) blocks=(num_blocks_x, num_blocks_y) mv_mul_kernel(x, A, x, Nx, Ny)\n",
    "end\n",
    "\n",
    "#@CUDA.time @sync mvmul!(y, A, x)\n",
    "#@CUDA.profile mvmul!(y, A, x)\n",
    "A[1, 1, :, :] * orig_x[1, 1, :] ≈ x[1, 1, :]"
   ]
  },
  {
   "cell_type": "code",
   "execution_count": 96,
   "id": "f78a6144-f2e8-433f-baa3-5da152d12fca",
   "metadata": {},
   "outputs": [
    {
     "data": {
      "text/plain": [
       "CUDA.HostKernel for Lop_kernel(CuDeviceArray{ComplexF32, 4, 1}, CuDeviceMatrix{Float64, 1}, CuDeviceMatrix{Float64, 1}, Int64, Int64, CuDeviceMatrix{Float64, 1}, Float32, Float32)"
      ]
     },
     "execution_count": 96,
     "metadata": {},
     "output_type": "execute_result"
    }
   ],
   "source": [
    "function Lop_kernel(result, k, l, Nx, Ny, D, f, Cg2)\n",
    "    i = blockDim().x * (blockIdx().x - 1) + threadIdx().x\n",
    "    j = blockDim().y * (blockIdx().y - 1) + threadIdx().y\n",
    "    if i > Nx || j > Ny\n",
    "        return\n",
    "    end\n",
    "    result[i, j, 1, 1] = -D[i,j]\n",
    "    result[i, j, 1, 2] =  f\n",
    "    result[i, j, 1, 3] = -1im*k[i]*Cg2\n",
    "\n",
    "    result[i, j, 2, 1] = -f\n",
    "    result[i, j, 2, 2] = -D[i,j]\n",
    "    result[i, j, 2, 3] = -1im*l[j]*Cg2\n",
    "\n",
    "    result[i, j, 3, 1] = -1im*k[i]\n",
    "    result[i, j, 3, 2] = -1im*l[j]\n",
    "    result[i, j, 3, 3] = -D[i,j]\n",
    "    return\n",
    "end\n",
    "\n",
    "function populate_L!(L, grid, params, dev)\n",
    "    D = @. - params.ν * grid.Krsq^(params.nν)\n",
    "    \n",
    "    config_kernel = @cuda launch=false Lop_kernel(L, grid.kr, grid.l, grid.nkr, grid.nl, D, params.f, params.Cg2)\n",
    "    max_threads = CUDA.maxthreads(config_kernel)\n",
    "    thread_size = 2^(floor(Int, log2(max_threads)/2))\n",
    "    num_threads_x = min(thread_size, grid.nkr)\n",
    "    num_threads_y = min(thread_size, grid.nl)\n",
    "    num_blocks_x = cld(grid.nkr, num_threads_x)\n",
    "    num_blocks_y = cld(grid.nl, num_threads_y)\n",
    "    CUDA.@sync begin\n",
    "        @cuda threads=(num_threads_x, num_threads_y) blocks=(num_blocks_x, num_blocks_y) Lop_kernel(L, grid.kr, grid.l, grid.nkr, grid.nl, D, params.f, params.Cg2)\n",
    "    end\n",
    "end\n",
    "\n",
    "using FourierFlows\n",
    "dev = GPU()\n",
    "grid = TwoDGrid(dev, nx=128, Lx=2π)\n",
    "L = zeros(dev, Complex{Float32}, (grid.nkr, grid.nl, 3, 3))\n",
    "params = (f = 1.0f0, Cg2=1.0f0, ν=1.0f0, nν=4)\n",
    "populate_L!(L, grid, params, dev)"
   ]
  },
  {
   "cell_type": "code",
   "execution_count": null,
   "id": "08295862-e12e-4315-95ef-e73082510bf9",
   "metadata": {},
   "outputs": [],
   "source": []
  }
 ],
 "metadata": {
  "kernelspec": {
   "display_name": "Julia 1.10.5",
   "language": "julia",
   "name": "julia-1.10"
  },
  "language_info": {
   "file_extension": ".jl",
   "mimetype": "application/julia",
   "name": "julia",
   "version": "1.10.5"
  }
 },
 "nbformat": 4,
 "nbformat_minor": 5
}
