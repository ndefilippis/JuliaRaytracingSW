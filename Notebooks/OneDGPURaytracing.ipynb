{
 "cells": [
  {
   "cell_type": "code",
   "execution_count": 1,
   "id": "a5ddfa52-cbd9-4096-bcbb-fa55ff87992f",
   "metadata": {},
   "outputs": [],
   "source": [
    "using DiffEqGPU, OrdinaryDiffEq, CUDA\n",
    "using BenchmarkTools\n",
    "using StaticArrays\n",
    "include(\"./CUDAInterpolations.jl\")\n",
    "using .CUDAInterpolations"
   ]
  },
  {
   "cell_type": "code",
   "execution_count": 2,
   "id": "55f962bb-be17-491c-babc-5d82a41599f8",
   "metadata": {},
   "outputs": [
    {
     "data": {
      "text/plain": [
       "bind_interpolate (generic function with 1 method)"
      ]
     },
     "execution_count": 2,
     "metadata": {},
     "output_type": "execute_result"
    }
   ],
   "source": [
    "@inline function linspace(a, b, N=100)\n",
    "    return (b-a) * (0:(N-1)) / N .+ a\n",
    "end\n",
    "\n",
    "function background_U!(U, N, x, t)\n",
    "    @. U = 0.2 + 0.05 * cos(π*t) * sin.(x)\n",
    "end\n",
    "\n",
    "function background_Ux!(Ux, N, x, t)\n",
    "    @. Ux = 0.05 * cos(π*t) * cos.(x)\n",
    "end\n",
    "\n",
    "function background_Uxx!(Uxx, N, x, t)\n",
    "    @. Uxx = -0.05 * cos(π*t) * sin.(x)\n",
    "end\n",
    "\n",
    "function bind_broadcast_interpolate(U1, U2, Ux1, Ux2, tspan, nodes, N, dx)\n",
    "    u1(x) = cubic_interpolate(x, U1, Ux1, nodes, dx, N)\n",
    "    u2(x) = cubic_interpolate(x, U2, Ux2, nodes, dx, N)\n",
    "    \n",
    "    function broadcast_interpolate(x, t)\n",
    "        u1_vals = map(u1, x)\n",
    "        u2_vals = map(u2, x)\n",
    "        return two_point_linear_interpolate(t, u1_vals, u2_vals, tspan[1], tspan[2])\n",
    "    end\n",
    "    return broadcast_interpolate\n",
    "end\n",
    "\n",
    "function bind_interpolate(U1, U2, Ux1, Ux2, tspan, nodes, N, dx)\n",
    "    function interpolate(x, t)\n",
    "        u1 = cubic_interpolate(x, U1, Ux1, nodes, dx, N)\n",
    "        u2 = cubic_interpolate(x, U2, Ux2, nodes, dx, N)\n",
    "        return two_point_linear_interpolate(t, u1, u2, tspan[1], tspan[2])\n",
    "    end\n",
    "end"
   ]
  },
  {
   "cell_type": "code",
   "execution_count": 3,
   "id": "b69ba174-a85a-4d5d-aff8-fb7b5a100727",
   "metadata": {},
   "outputs": [
    {
     "name": "stdout",
     "output_type": "stream",
     "text": [
      "  65.167 μs (485 allocations: 10.94 KiB)\n"
     ]
    },
    {
     "data": {
      "text/plain": [
       "1000-element CuArray{Float64, 1, CUDA.DeviceMemory}:\n",
       " 0.27070017546097064\n",
       " 0.2723886072763087\n",
       " 0.2724553507067346\n",
       " 0.26570681248555195\n",
       " 0.26725015402420155\n",
       " 0.27361865640581934\n",
       " 0.27184304531207365\n",
       " 0.2576559350808809\n",
       " 0.2701266533121059\n",
       " 0.2146659575431981\n",
       " 0.26224666778310685\n",
       " 0.26114961293197275\n",
       " 0.25000721492575434\n",
       " ⋮\n",
       " 0.27185003259881024\n",
       " 0.2129216065320686\n",
       " 0.27138917650335204\n",
       " 0.2651441067326269\n",
       " 0.257112849714967\n",
       " 0.2556487499059167\n",
       " 0.2021280397752272\n",
       " 0.26964311754314224\n",
       " 0.21888667488741134\n",
       " 0.2520152987559264\n",
       " 0.23090035835336342\n",
       " 0.2566547038463808"
      ]
     },
     "execution_count": 3,
     "metadata": {},
     "output_type": "execute_result"
    }
   ],
   "source": [
    "N = 128\n",
    "Lx = 2π\n",
    "x = CuArray(convert.(Float32, linspace(0, Lx, N)))\n",
    "dx = N / Lx\n",
    "tspan = (0, 1)\n",
    "\n",
    "U1   = CuArray{Float32}(undef, N)\n",
    "U1x  = CuArray{Float32}(undef, N)\n",
    "U1xx = CuArray{Float32}(undef, N)\n",
    "U2   = CuArray{Float32}(undef, N)\n",
    "U2x  = CuArray{Float32}(undef, N)\n",
    "U2xx = CuArray{Float32}(undef, N)\n",
    "background_U!(  U1,   N, x, tspan[1])\n",
    "background_Ux!( U1x,  N, x, tspan[1])\n",
    "background_Uxx!(U1xx, N, x, tspan[1])\n",
    "background_U!(  U2,   N, x, tspan[2])\n",
    "background_Ux!( U2x,  N, x, tspan[2])\n",
    "background_Uxx!(U2xx, N, x, tspan[2])\n",
    "\n",
    "t = 0.125\n",
    "xs = 2π * CUDA.rand(1000)\n",
    "interpolator = bind_broadcast_interpolate(U1, U2, U1x, U2x, tspan, x, N, dx)\n",
    "@btime interpolator(xs, t)"
   ]
  },
  {
   "cell_type": "code",
   "execution_count": 16,
   "id": "29df8505-e23e-437e-b767-abc468c20852",
   "metadata": {},
   "outputs": [
    {
     "ename": "LoadError",
     "evalue": "ParseError:\n\u001b[90m# Error @ \u001b[0;0m\u001b]8;;file:///home/nad9961/JuliaRaytracingSW/In[16]#53:1\u001b\\\u001b[90mIn[16]:53:1\u001b[0;0m\u001b]8;;\u001b\\\n\n\u001b[48;2;120;70;70mfunction AB3(f, dt, t, y, y_prev1, y_prev2\u001b[0;0m)\n\u001b[90m└────────────────────────────────────────┘ ── \u001b[0;0m\u001b[91mExpected `)`\u001b[0;0m",
     "output_type": "error",
     "traceback": [
      "ParseError:\n\u001b[90m# Error @ \u001b[0;0m\u001b]8;;file:///home/nad9961/JuliaRaytracingSW/In[16]#53:1\u001b\\\u001b[90mIn[16]:53:1\u001b[0;0m\u001b]8;;\u001b\\\n\n\u001b[48;2;120;70;70mfunction AB3(f, dt, t, y, y_prev1, y_prev2\u001b[0;0m)\n\u001b[90m└────────────────────────────────────────┘ ── \u001b[0;0m\u001b[91mExpected `)`\u001b[0;0m",
      "",
      "Stacktrace:",
      " [1] top-level scope",
      "   @ In[16]:53"
     ]
    }
   ],
   "source": [
    "using StaticArrays\n",
    "\n",
    "function ω(k, p)\n",
    "    return sqrt(p.f^2 + p.Cg^2*k^2)\n",
    "end\n",
    "\n",
    "function group_velocity(k, p)\n",
    "    return p.Cg^2*k/ω(k, p)\n",
    "end\n",
    "\n",
    "function raytrace(dxk, xk, params, t)\n",
    "    group_vel = group_velocity(xk[2], params)\n",
    "    dxk[1] = params.u(xk[1], t) + group_vel;\n",
    "    dxk[2] = -params.ux(xk[1], t) * xk[2]\n",
    "end\n",
    "\n",
    "function raytrace1_5(xk, params, t)\n",
    "    return SVector{2}(1, 1)\n",
    "end\n",
    "\n",
    "function raytrace2(xk, params, t)\n",
    "    x = xk[1]\n",
    "    k = xk[2]\n",
    "    x_normalized = (x - params.x0) / params.Lx\n",
    "    group_vel = group_velocity(k, params)\n",
    "    u1 = params.U1\n",
    "    #u1x = params.U1x[x_normalized]\n",
    "    #u2 = params.U2[x_normalized]\n",
    "    #u2x = params.U2x[x_normalized]\n",
    "    #u  = two_point_linear_interpolate(t, u1,  u2,  params.t0, params.t1)\n",
    "    #ux = two_point_linear_interpolate(t, u1x, u2x, params.t0, params.t1)\n",
    "    #dx = u + group_vel;\n",
    "    #dk = -ux * k\n",
    "    return SVector{2}(0., 0.)\n",
    "end\n",
    "\n",
    "function dxdt(xdot, x, k, params, t)\n",
    "    group_vel = group_velocity(k, params)\n",
    "    xdot[1] = params.u(x[1], t) + group_vel[1];\n",
    "end\n",
    "\n",
    "function dkdt(kdot, x, k, params, t)\n",
    "    kdot[1] = -params.ux(x[1], t) * k[1]\n",
    "end\n",
    "\n",
    "function AB1(f, dt, t, y)\n",
    "    return y + dt * f(t, y)\n",
    "end\n",
    "\n",
    "function AB2(f, dt, t, y, y_prev)\n",
    "    return y + t*(3*f(t, y) - f(t\n",
    "\n",
    "function AB3(f, dt, t, y, y_prev1, y_prev2)\n",
    "    \n",
    "end"
   ]
  },
  {
   "cell_type": "code",
   "execution_count": 5,
   "id": "9cb3eae4-ca97-4c8d-8d71-87636e8a1f0f",
   "metadata": {},
   "outputs": [
    {
     "data": {
      "text/plain": [
       "1000×2 Matrix{Float32}:\n",
       " 0.672289   0.808696\n",
       " 0.0172395  0.736838\n",
       " 0.384553   0.000753164\n",
       " 0.827969   0.750407\n",
       " 0.113672   0.202352\n",
       " 0.981669   0.693599\n",
       " 0.657712   0.315232\n",
       " 0.699367   0.0142295\n",
       " 0.823105   0.158962\n",
       " 0.110966   0.609824\n",
       " 0.395789   0.101469\n",
       " 0.902849   0.687438\n",
       " 0.913886   0.0715594\n",
       " ⋮          \n",
       " 0.167568   0.613026\n",
       " 0.7        0.86874\n",
       " 0.475178   0.506129\n",
       " 0.802863   0.104699\n",
       " 0.929056   0.894391\n",
       " 0.570592   0.270123\n",
       " 0.0686752  0.649342\n",
       " 0.629235   0.757455\n",
       " 0.843742   0.99679\n",
       " 0.738429   0.445779\n",
       " 0.78896    0.210621\n",
       " 0.163801   0.925872"
      ]
     },
     "execution_count": 5,
     "metadata": {},
     "output_type": "execute_result"
    }
   ],
   "source": [
    "xk0S = @SVector Float32[1.0f0; 1.0f0]\n",
    "xk0 = Float32[1.0f0; 1.0f0]\n",
    "tspan = (0.0f0, 1.0f0)\n",
    "params = (u  = bind_interpolate(U1,  U2,  U1x,  U2x,  tspan, x, N, dx),\n",
    "          ux = bind_interpolate(U1x, U2x, U1xx, U2xx, tspan, x, N, dx),\n",
    "          f  = 1.0f0,\n",
    "          Cg = 1.0f0);\n",
    "#prob = DynamicalODEProblem(dxdt, dkdt, x0, k0, tspan, params)\n",
    "N_trajectories=1_000\n",
    "xk0_array = rand(Float32, N_trajectories, 2)"
   ]
  },
  {
   "cell_type": "code",
   "execution_count": 6,
   "id": "8273c478-c437-4cbb-aed9-761f72c1481d",
   "metadata": {},
   "outputs": [
    {
     "name": "stderr",
     "output_type": "stream",
     "text": [
      "\u001b[33m\u001b[1m┌ \u001b[22m\u001b[39m\u001b[33m\u001b[1mWarning: \u001b[22m\u001b[39mPerforming scalar indexing on task Task (runnable) @0x000014e7738039e0.\n",
      "\u001b[33m\u001b[1m│ \u001b[22m\u001b[39mInvocation of getindex resulted in scalar indexing of a GPU array.\n",
      "\u001b[33m\u001b[1m│ \u001b[22m\u001b[39mThis is typically caused by calling an iterating implementation of a method.\n",
      "\u001b[33m\u001b[1m│ \u001b[22m\u001b[39mSuch implementations *do not* execute on the GPU, but very slowly on the CPU,\n",
      "\u001b[33m\u001b[1m│ \u001b[22m\u001b[39mand therefore should be avoided.\n",
      "\u001b[33m\u001b[1m│ \u001b[22m\u001b[39m\n",
      "\u001b[33m\u001b[1m│ \u001b[22m\u001b[39mIf you want to allow scalar iteration, use `allowscalar` or `@allowscalar`\n",
      "\u001b[33m\u001b[1m│ \u001b[22m\u001b[39mto enable scalar iteration globally or for the operations in question.\n",
      "\u001b[33m\u001b[1m└ \u001b[22m\u001b[39m\u001b[90m@ GPUArraysCore /ext3/pkgs/packages/GPUArraysCore/GMsgk/src/GPUArraysCore.jl:149\u001b[39m\n"
     ]
    },
    {
     "name": "stdout",
     "output_type": "stream",
     "text": [
      "  6.872 s (3945861 allocations: 95.05 MiB)\n"
     ]
    }
   ],
   "source": [
    "params1 = (u  = bind_interpolate(U1,  U2,  U1x,  U2x,  tspan, x, N, dx),\n",
    "          ux = bind_interpolate(U1x, U2x, U1xx, U2xx, tspan, x, N, dx),\n",
    "          f  = 1.0f0,\n",
    "          Cg = 1.0f0);\n",
    "prob_func1 = (prob, i, repeat) -> remake(prob, u0=xk0_array[i, :])\n",
    "prob1 = ODEProblem(raytrace, xk0, tspan, params1, dt=0.01)\n",
    "ens_prob1 = EnsembleProblem(prob1, prob_func = prob_func1, safetycopy = false)\n",
    "@btime sol = solve(ens_prob1, Tsit5(), EnsembleThreads(), \n",
    "    trajectories=N_trajectories, save_on = false, save_start=false);"
   ]
  },
  {
   "cell_type": "code",
   "execution_count": 7,
   "id": "ecc4482a-9bfb-4db8-ad95-42ea7e10ecfd",
   "metadata": {},
   "outputs": [
    {
     "ename": "LoadError",
     "evalue": "UndefVarError: `texU1` not defined",
     "output_type": "error",
     "traceback": [
      "UndefVarError: `texU1` not defined",
      "",
      "Stacktrace:",
      " [1] top-level scope",
      "   @ In[7]:4"
     ]
    }
   ],
   "source": [
    "P = 100\n",
    "y = 10 * 2π * CUDA.rand(P)\n",
    "\n",
    "texture_U1  = CuTexture(texU1;  address_mode=CUDA.ADDRESS_MODE_WRAP, interpolation=CUDA.LinearInterpolation(), normalized_coordinates=false)\n",
    "texture_U1x = CuTexture(texU1x; address_mode=CUDA.ADDRESS_MODE_WRAP, interpolation=CUDA.LinearInterpolation(), normalized_coordinates=false)\n",
    "function kern_get_point(output, U, idxs)\n",
    "    i = (blockIdx().x - 1) * blockDim().x + threadIdx().x\n",
    "    idx = idx[i]\n",
    "    output[i] = U[idx]\n",
    "    return nothing\n",
    "end\n",
    "\n",
    "output = CuArray(zeros(P))\n",
    "@cuda threads=(P) kern_get_point(output, texture_U1, texture_U1x, x, y)\n",
    "output"
   ]
  },
  {
   "cell_type": "code",
   "execution_count": 8,
   "id": "ec4c862d-5d06-4671-8839-b1c4336e129f",
   "metadata": {},
   "outputs": [
    {
     "data": {
      "text/plain": [
       "16×16 CuArray{Float32, 2, CUDA.DeviceMemory}:\n",
       "  2.02   2.04   2.06   2.08   2.1  …   2.16   2.16   2.16   2.16   2.16\n",
       "  4.02   4.04   4.06   4.08   4.1      4.16   4.16   4.16   4.16   4.16\n",
       "  6.02   6.04   6.06   6.08   6.1      6.16   6.16   6.16   6.16   6.16\n",
       "  8.02   8.04   8.06   8.08   8.1      8.16   8.16   8.16   8.16   8.16\n",
       " 10.02  10.04  10.06  10.08  10.1     10.16  10.16  10.16  10.16  10.16\n",
       " 12.02  12.04  12.06  12.08  12.1  …  12.16  12.16  12.16  12.16  12.16\n",
       " 14.02  14.04  14.06  14.08  14.1     14.16  14.16  14.16  14.16  14.16\n",
       " 16.02  16.04  16.06  16.08  16.1     16.16  16.16  16.16  16.16  16.16\n",
       " 16.02  16.04  16.06  16.08  16.1     16.16  16.16  16.16  16.16  16.16\n",
       " 16.02  16.04  16.06  16.08  16.1     16.16  16.16  16.16  16.16  16.16\n",
       " 16.02  16.04  16.06  16.08  16.1  …  16.16  16.16  16.16  16.16  16.16\n",
       " 16.02  16.04  16.06  16.08  16.1     16.16  16.16  16.16  16.16  16.16\n",
       " 16.02  16.04  16.06  16.08  16.1     16.16  16.16  16.16  16.16  16.16\n",
       " 16.02  16.04  16.06  16.08  16.1     16.16  16.16  16.16  16.16  16.16\n",
       " 16.02  16.04  16.06  16.08  16.1     16.16  16.16  16.16  16.16  16.16\n",
       " 16.02  16.04  16.06  16.08  16.1  …  16.16  16.16  16.16  16.16  16.16"
      ]
     },
     "execution_count": 8,
     "metadata": {},
     "output_type": "execute_result"
    }
   ],
   "source": [
    "@inline function calcpoint(blockIdx, blockDim, threadIdx, size)\n",
    "    i = (blockIdx - 1) * blockDim + threadIdx\n",
    "    return i, Float32(i)\n",
    "end\n",
    "\n",
    "function kernel_texture_warp_native(dst::CuDeviceArray{<:Any,2}, texture::CuDeviceTexture{<:Any,2})\n",
    "    i, u = calcpoint(blockIdx().x, blockDim().x, threadIdx().x, size(dst)[1])\n",
    "    j, v = calcpoint(blockIdx().y, blockDim().y, threadIdx().y, size(dst)[2])\n",
    "    @inbounds dst[i,j] = texture[2*u,2*v]\n",
    "    return nothing\n",
    "end\n",
    "\n",
    "function fetch_all(texture)\n",
    "    dims = size(texture)\n",
    "    d_out = CuArray{eltype(texture)}(undef, dims...)\n",
    "\n",
    "    kernel = @cuda launch=false kernel_texture_warp_native(d_out, texture)\n",
    "    config = launch_configuration(kernel.fun)\n",
    "\n",
    "    dim_x, dim_y, dim_z = size(texture, 1), size(texture, 2), size(texture, 3)\n",
    "    threads_x = min(dim_x, config.threads)\n",
    "    blocks_x = cld(dim_x, threads_x)\n",
    "\n",
    "    kernel(d_out, texture; threads=threads_x, blocks=(blocks_x, dim_y, dim_z))\n",
    "    d_out\n",
    "end\n",
    "\n",
    "testheight, testwidth, testdepth = 16, 16, 4\n",
    "a2D = convert(Array{Float32}, repeat(1:testheight, 1, testwidth) + repeat(0.01 * (1:testwidth)', testheight, 1))\n",
    "d_a2D = CuArray(a2D)\n",
    "\n",
    "# NOTE: tex1D is not supported for linear memory\n",
    "\n",
    "# This works as long as d_a2D is well pitched\n",
    "texwrap2D = CuTexture(d_a2D; address_mode=CUDA.ADDRESS_MODE_MIRROR)\n",
    "fetch_all(texwrap2D)"
   ]
  },
  {
   "cell_type": "code",
   "execution_count": 9,
   "id": "009b040d-cf83-4254-88ce-0fa38bf742fb",
   "metadata": {},
   "outputs": [
    {
     "data": {
      "text/plain": [
       "128-element 1-channel CuTexture(::CuArray) with eltype Float32"
      ]
     },
     "execution_count": 9,
     "metadata": {},
     "output_type": "execute_result"
    }
   ],
   "source": [
    "texU1 = CuTexture(U1;   address_mode=CUDA.ADDRESS_MODE_WRAP, interpolation=CUDA.LinearInterpolation(), normalized_coordinates=true)\n",
    "texU2 = CuTexture(U2;   address_mode=CUDA.ADDRESS_MODE_WRAP, interpolation=CUDA.LinearInterpolation(), normalized_coordinates=true)\n",
    "texU1x = CuTexture(U1x; address_mode=CUDA.ADDRESS_MODE_WRAP, interpolation=CUDA.LinearInterpolation(), normalized_coordinates=true)\n",
    "texU2x = CuTexture(U2x; address_mode=CUDA.ADDRESS_MODE_WRAP, interpolation=CUDA.LinearInterpolation(), normalized_coordinates=true)"
   ]
  },
  {
   "cell_type": "code",
   "execution_count": 17,
   "id": "159ef0f9-399b-43ba-8722-567c0f5a4a07",
   "metadata": {},
   "outputs": [
    {
     "name": "stdout",
     "output_type": "stream",
     "text": [
      "  1.438 ms (45628 allocations: 2.95 MiB)\n"
     ]
    }
   ],
   "source": [
    "params2 = (U1 = texU1, U2 = texU2, U1x = texU1x, U2x = texU2x,\n",
    "            Lx = 2π, x0 = 0., t0 = tspan[1], t1 = tspan[2],\n",
    "            f = 1.0f0,\n",
    "            Cg = 1.0f0)\n",
    "prob_func2 = (prob, i, repeat) -> remake(prob)\n",
    "prob2 = ODEProblem(raytrace2, xk0S, tspan, params2, dt=0.01)\n",
    "ens_prob2 = EnsembleProblem(prob2, prob_func = prob_func2, safetycopy = false)\n",
    "@btime sol = solve(ens_prob2, GPUTsit5(), EnsembleGPUKernel(CUDA.CUDABackend()),\n",
    "       trajectories=N_trajectories, save_on = false, save_start=false);"
   ]
  },
  {
   "cell_type": "code",
   "execution_count": 19,
   "id": "0c12931f-9a7d-4e19-a14a-61131b3867b0",
   "metadata": {},
   "outputs": [
    {
     "data": {
      "text/plain": [
       "EnsembleProblem with problem ODEProblem"
      ]
     },
     "execution_count": 19,
     "metadata": {},
     "output_type": "execute_result"
    }
   ],
   "source": [
    "cudaconvert(ens_prob2)"
   ]
  },
  {
   "cell_type": "code",
   "execution_count": 102,
   "id": "434328a5-ee18-4f8c-a146-e2be8688e4c1",
   "metadata": {},
   "outputs": [
    {
     "data": {
      "text/plain": [
       "EnsembleSolution Solution of length 10000 with uType:\n",
       "ODESolution{Float32, 2, SubArray{SVector{3, Float32}, 1, Matrix{SVector{3, Float32}}, Tuple{UnitRange{Int64}, Int64}, true}, Nothing, Nothing, SubArray{Float32, 1, Matrix{Float32}, Tuple{UnitRange{Int64}, Int64}, true}, Nothing, Nothing, DiffEqGPU.ImmutableODEProblem{SVector{3, Float32}, Tuple{Float32, Float32}, false, SVector{3, Float32}, ODEFunction{false, SciMLBase.AutoSpecialize, typeof(lorenz2), LinearAlgebra.UniformScaling{Bool}, Nothing, Nothing, Nothing, Nothing, Nothing, Nothing, Nothing, Nothing, Nothing, Nothing, Nothing, typeof(SciMLBase.DEFAULT_OBSERVED), Nothing, Nothing, Nothing, Nothing}, Base.Pairs{Symbol, Union{}, Tuple{}, @NamedTuple{}}, SciMLBase.StandardODEProblem}, GPUTsit5, SciMLBase.LinearInterpolation{SubArray{Float32, 1, Matrix{Float32}, Tuple{UnitRange{Int64}, Int64}, true}, SubArray{SVector{3, Float32}, 1, Matrix{SVector{3, Float32}}, Tuple{UnitRange{Int64}, Int64}, true}}, Nothing, Nothing, Nothing, Nothing}"
      ]
     },
     "execution_count": 102,
     "metadata": {},
     "output_type": "execute_result"
    }
   ],
   "source": [
    "function lorenz2(u, p, t)\n",
    "    σ = p[1]\n",
    "    ρ = p[2]\n",
    "    β = two_point_linear_interpolate(t, p[3], p[2], 0.0f0, 10.0f0)\n",
    "    du1 = σ * (u[2] - u[1])\n",
    "    du2 = u[1] * (ρ - u[3]) - u[2]\n",
    "    du3 = u[1] * u[2] - β * u[3]\n",
    "    return SVector{3}(du1, du2, du3)\n",
    "end\n",
    "\n",
    "u0 = @SVector [1.0f0; 0.0f0; 0.0f0]\n",
    "tspan = (0.0f0, 10.0f0)\n",
    "p = @SVector [10.0f0, 28.0f0, 8 / 3.0f0]\n",
    "prob = ODEProblem{false}(lorenz2, u0, tspan, p)\n",
    "prob_func = (prob, i, repeat) -> remake(prob, p = (@SVector rand(Float32, 3)) .* p)\n",
    "monteprob = EnsembleProblem(prob, prob_func = prob_func, safetycopy = false)\n",
    "sol = solve(monteprob, GPUTsit5(), EnsembleGPUKernel(CUDA.CUDABackend()),\n",
    "    trajectories = 10_000,\n",
    "    saveat = 1.0f0)"
   ]
  },
  {
   "cell_type": "code",
   "execution_count": null,
   "id": "68ecc72a-02d6-4c71-984b-ecdc6b71355d",
   "metadata": {},
   "outputs": [],
   "source": []
  }
 ],
 "metadata": {
  "kernelspec": {
   "display_name": "Julia 1.10.5",
   "language": "julia",
   "name": "julia-1.10"
  },
  "language_info": {
   "file_extension": ".jl",
   "mimetype": "application/julia",
   "name": "julia",
   "version": "1.10.5"
  }
 },
 "nbformat": 4,
 "nbformat_minor": 5
}
