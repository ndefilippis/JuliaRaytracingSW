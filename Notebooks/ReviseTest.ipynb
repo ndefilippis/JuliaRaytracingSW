{
 "cells": [
  {
   "cell_type": "code",
   "execution_count": 3,
   "id": "48787023-6ecf-4a6e-83f3-c87009eabb9a",
   "metadata": {},
   "outputs": [],
   "source": [
    "using Revise\n",
    "includet(\"hello_world.jl\")\n",
    "\n",
    "using .Hello"
   ]
  },
  {
   "cell_type": "code",
   "execution_count": 5,
   "id": "111d6710-b41e-4bd0-b562-95a8f314e6ca",
   "metadata": {},
   "outputs": [
    {
     "name": "stdout",
     "output_type": "stream",
     "text": [
      "Hello, World! I am also here\n"
     ]
    }
   ],
   "source": [
    "hello()"
   ]
  },
  {
   "cell_type": "code",
   "execution_count": null,
   "id": "708dd1ad-1201-4abf-b772-d3ebec51b01c",
   "metadata": {},
   "outputs": [],
   "source": []
  }
 ],
 "metadata": {
  "kernelspec": {
   "display_name": "Julia 1.10.5",
   "language": "julia",
   "name": "julia-1.10"
  },
  "language_info": {
   "file_extension": ".jl",
   "mimetype": "application/julia",
   "name": "julia",
   "version": "1.10.5"
  }
 },
 "nbformat": 4,
 "nbformat_minor": 5
}
