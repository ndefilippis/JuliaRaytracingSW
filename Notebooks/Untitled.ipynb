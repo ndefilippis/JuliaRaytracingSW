{
 "cells": [
  {
   "cell_type": "code",
   "execution_count": 1,
   "id": "792f2fc9-4bbf-44d3-be1b-cdce7afb2967",
   "metadata": {},
   "outputs": [],
   "source": [
    "using StaticArrays"
   ]
  },
  {
   "cell_type": "code",
   "execution_count": 2,
   "id": "cda6869b-a71c-4d55-8d47-efa30fd16882",
   "metadata": {},
   "outputs": [
    {
     "data": {
      "text/plain": [
       "2×2 SMatrix{2, 2, Float64, 4} with indices SOneTo(2)×SOneTo(2):\n",
       " 1.0  1.0\n",
       " 1.0  1.0"
      ]
     },
     "execution_count": 2,
     "metadata": {},
     "output_type": "execute_result"
    }
   ],
   "source": [
    "A = SMatrix{2,2,Float64}([1,1,1,1])"
   ]
  },
  {
   "cell_type": "code",
   "execution_count": 6,
   "id": "e9e78aa6-818e-45a2-be4a-64c8f4fb61dc",
   "metadata": {},
   "outputs": [
    {
     "data": {
      "text/plain": [
       "4×4 SMatrix{4, 4, Float64, 16} with indices SOneTo(4)×SOneTo(4):\n",
       " 1.0  1.0  1.0  1.0\n",
       " 1.0  1.0  1.0  1.0\n",
       " 1.0  1.0  1.0  1.0\n",
       " 1.0  1.0  1.0  1.0"
      ]
     },
     "execution_count": 6,
     "metadata": {},
     "output_type": "execute_result"
    }
   ],
   "source": [
    "N = floor(Int, 2.5)\n",
    "function make_static_array(N)\n",
    "    v = ones(N, N)\n",
    "    B = SMatrix{N,N,Float64}(v)\n",
    "end\n",
    "\n",
    "make_static_array(4)"
   ]
  },
  {
   "cell_type": "code",
   "execution_count": null,
   "id": "e14ef87b-9a9a-4fa3-8f49-63339bda044b",
   "metadata": {},
   "outputs": [],
   "source": []
  }
 ],
 "metadata": {
  "kernelspec": {
   "display_name": "Julia 1.10.5",
   "language": "julia",
   "name": "julia-1.10"
  },
  "language_info": {
   "file_extension": ".jl",
   "mimetype": "application/julia",
   "name": "julia",
   "version": "1.10.5"
  }
 },
 "nbformat": 4,
 "nbformat_minor": 5
}
