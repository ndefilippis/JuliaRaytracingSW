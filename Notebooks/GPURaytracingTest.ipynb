{
 "cells": [
  {
   "cell_type": "code",
   "execution_count": 1,
   "id": "9873de6e-a6c1-41f3-a821-5479b30900d7",
   "metadata": {},
   "outputs": [],
   "source": [
    "include(\"raytracing/GPURaytracing.jl\")\n",
    "using .GPURaytracing"
   ]
  },
  {
   "cell_type": "code",
   "execution_count": 4,
   "id": "c2cb91ae-b943-453b-8b67-e8e0bd0fa143",
   "metadata": {},
   "outputs": [
    {
     "data": {
      "text/plain": [
       "VelocityGradient(Float32[-0.041082524 -0.08592519 … 0.048200794 0.0036578998; -0.039745167 -0.08618337 … 0.052694872 0.0065803602; … ; -0.04296215 -0.084401205 … 0.03958269 -0.001604557; -0.042154267 -0.08532934 … 0.043828256 0.0009289831], Float32[1.7433773 1.7430874 … 1.7303483 1.7391233; 1.6977682 1.6974195 … 1.6851475 1.6936702; … ; 1.8296431 1.8294444 … 1.8158785 1.8251132; 1.7873586 1.7871187 … 1.7739482 1.7829607], Float32[-1.645809 -1.646198 … -1.6401613 -1.6437926; -1.5592438 -1.5599357 … -1.5532116 -1.5569984; … ; -1.805511 -1.805304 … -1.8006448 -1.8039539; -1.7279725 -1.7280616 … -1.722714 -1.726186], Float32[0.041082524 0.08592519 … -0.048200794 -0.0036578998; 0.039745167 0.08618337 … -0.052694872 -0.0065803602; … ; 0.04296215 0.084401205 … -0.03958269 0.001604557; 0.042154267 0.08532934 … -0.043828256 -0.0009289831])"
      ]
     },
     "execution_count": 4,
     "metadata": {},
     "output_type": "execute_result"
    }
   ],
   "source": [
    "using CUDA, OrdinaryDiffEq, BenchmarkTools, LinearAlgebra, FourierFlows\n",
    "\n",
    "grid = TwoDGrid(GPU(); nx=512, Lx=2π, T=Float32)\n",
    "mask = @. 9 <= grid.kr^2 + grid.l^2 < 36\n",
    "A = 1000.0f0\n",
    "ψh = A * (CUDA.rand(grid.nkr, grid.nl) + 1im * CUDA.rand(grid.nkr, grid.nl))\n",
    "ψh[.~mask] .= 0.f0\n",
    "\n",
    "ψ = irfft(ψh, grid.nx, (1, 2))\n",
    "\n",
    "U = irfft(-1im * grid.l  .* ψh, grid.nx, (1, 2))\n",
    "V = irfft( 1im * grid.kr .* ψh, grid.nx, (1, 2))\n",
    "\n",
    "Ux = irfft( grid.l  .* grid.kr .* ψh, grid.nx, (1, 2))\n",
    "Vx = irfft(-grid.kr .* grid.kr .* ψh, grid.nx, (1, 2))\n",
    "Uy = irfft( grid.l  .* grid.l  .* ψh, grid.nx, (1, 2))\n",
    "Vy = -Ux\n",
    "\n",
    "velocity1 = Velocity(U, V)\n",
    "gradient1 = VelocityGradient(Ux, Uy, Vx, Vy)\n",
    "velocity2 = Velocity(U, V)\n",
    "gradient2 = VelocityGradient(Ux, Uy, Vx, Vy)"
   ]
  },
  {
   "cell_type": "code",
   "execution_count": 3,
   "id": "8da38cff-5cb8-4809-8ce9-1bec91c1da34",
   "metadata": {},
   "outputs": [
    {
     "data": {
      "text/plain": [
       "1000×4 CuArray{Float32, 2, CUDA.DeviceMemory}:\n",
       " -3.0856     2.89212    -0.445822   -0.895122\n",
       "  3.08647   -0.234708   -0.414097   -0.910233\n",
       "  1.89742   -2.87474     0.82967    -0.558255\n",
       " -1.23314   -2.21199    -0.935151    0.354249\n",
       "  2.14182   -2.1523      0.629377   -0.7771\n",
       "  1.28044    1.90146     0.993145   -0.116893\n",
       " -2.83758   -1.26733     0.456475    0.889736\n",
       " -0.279517   0.449924   -0.450005   -0.893026\n",
       "  2.96737    1.20589    -0.991747   -0.128213\n",
       " -2.90581    0.305089   -0.971898   -0.235402\n",
       " -0.511575   1.98351    -0.600151   -0.799887\n",
       "  1.31448    2.48613     0.866483    0.499207\n",
       "  1.51256    2.44705    -0.449619   -0.893221\n",
       "  ⋮                                 \n",
       "  2.77868    0.0227401  -0.553601    0.832782\n",
       "  1.17536   -1.22068    -0.0222173  -0.999753\n",
       "  2.31804   -1.43775     0.920722   -0.390219\n",
       "  2.85235   -1.78418     0.489781    0.871846\n",
       " -2.62725    2.65872    -0.462811    0.886457\n",
       " -1.8984     2.22814     0.315449   -0.948943\n",
       "  1.62526   -0.804607    0.505627   -0.862752\n",
       " -1.75029   -2.90676    -0.491554   -0.870847\n",
       " -1.31244   -0.996536   -0.95246    -0.304663\n",
       " -0.915679  -0.801355    0.222472   -0.974939\n",
       "  1.02091    1.27733     0.962234   -0.272224\n",
       " -2.56331   -2.25677    -0.875996   -0.482318"
      ]
     },
     "execution_count": 3,
     "metadata": {},
     "output_type": "execute_result"
    }
   ],
   "source": [
    "Np = 1000\n",
    "\n",
    "wavepacket_array = CuArray{Float32}(undef, Np, 4)\n",
    "x = @views wavepacket_array[:, 1:2]\n",
    "k = @views wavepacket_array[:, 3]\n",
    "l = @views wavepacket_array[:, 4]\n",
    "x .= grid.Lx * CUDA.rand(Np, 2) .+ grid.x[1]\n",
    "phase = 2π * CUDA.rand(Np)\n",
    "@. k = cos(phase)\n",
    "@. l = sin(phase)\n",
    "\n",
    "wavepacket_array"
   ]
  },
  {
   "cell_type": "code",
   "execution_count": 62,
   "id": "1f3a4bac-ce5c-44e3-91a9-ddaa4b8d69d4",
   "metadata": {},
   "outputs": [
    {
     "data": {
      "text/plain": [
       "1000×4 CuArray{Float32, 2, CUDA.DeviceMemory}:\n",
       " -11.9967     -1.74882    1.38889     1.02545\n",
       "  38.8723    -10.0933     0.487031    0.780969\n",
       "  27.6838    -30.7953    -0.708083    0.824885\n",
       "   0.417075   45.9193     1.18024     0.325704\n",
       "  -3.81401     1.55787   -0.817147    0.286775\n",
       "   1.69387   -14.3405    -0.87909    -0.728571\n",
       "  -9.39997    46.1369     0.341356   -1.00939\n",
       "  20.3812    -38.7632    -0.97276    -0.453745\n",
       "  19.3143     45.0519     0.357962    1.00105\n",
       " -52.7491      1.68981   -0.929159   -0.354018\n",
       "  -0.775043   -5.44458   -0.846333    0.607966\n",
       " -18.7364      0.977051   0.531703    0.861323\n",
       " -28.4478     20.4632    -0.956113    0.130534\n",
       "   ⋮                                 \n",
       "  -6.29716    52.8408     0.0237523   0.89639\n",
       " -17.7076     21.8832    -0.0232561   1.02763\n",
       " -20.5178    -14.9959    -0.423419    1.05353\n",
       "  42.0013     20.331     -0.677052   -0.494378\n",
       "  -8.73408    37.387      0.453991    0.922678\n",
       " -15.7568     13.4675    -0.40042     1.04167\n",
       "  14.3217     -9.23165    0.79717     0.557318\n",
       "  16.4285     -9.08762   -0.816956   -0.163261\n",
       " -57.9646     27.9045    -0.240162   -0.890035\n",
       "  -2.35382   -22.8364    -0.413922    0.791025\n",
       " -18.6127      5.88527   -0.618575   -1.00922\n",
       " -16.9924    -34.8614     0.933128   -0.556445"
      ]
     },
     "execution_count": 62,
     "metadata": {},
     "output_type": "execute_result"
    }
   ],
   "source": [
    "GPURaytracing.solve!(velocity1, velocity2, gradient1, gradient2, grid, wavepacket_array, 1.0f0, (0.0f0, 0.1f0), (f = 1.0f0, Cg = 1.0f0))"
   ]
  },
  {
   "cell_type": "code",
   "execution_count": 7,
   "id": "6deb1812-2dca-41d9-906b-796f9178cdf1",
   "metadata": {},
   "outputs": [
    {
     "data": {
      "text/plain": [
       "1000-element CuArray{Float32, 1, CUDA.DeviceMemory}:\n",
       " 1.4142135\n",
       " 1.4142135\n",
       " 1.4142135\n",
       " 1.4142135\n",
       " 1.4142135\n",
       " 1.4142135\n",
       " 1.4142135\n",
       " 1.4142135\n",
       " 1.4142135\n",
       " 1.4142135\n",
       " 1.4142135\n",
       " 1.4142135\n",
       " 1.4142135\n",
       " ⋮\n",
       " 1.4142135\n",
       " 1.4142135\n",
       " 1.4142135\n",
       " 1.4142135\n",
       " 1.4142135\n",
       " 1.4142135\n",
       " 1.4142135\n",
       " 1.4142135\n",
       " 1.4142135\n",
       " 1.4142135\n",
       " 1.4142135\n",
       " 1.4142135"
      ]
     },
     "execution_count": 7,
     "metadata": {},
     "output_type": "execute_result"
    }
   ],
   "source": [
    "@inline function dispersion_relation(k::Float32, l::Float32, f::Float32, Cg::Float32)::Float32\n",
    "    return sqrt(f^2 + Cg*(k^2 + l^2))\n",
    "end\n",
    "\n",
    "p = (f=1.0f0, Cg=1.0f0)\n",
    "\n",
    "k1 = @views wavepacket_array[:, 3]\n",
    "k2 = @views wavepacket_array[:, 4]\n",
    "\n",
    "dispersion_relation.(k1, k2, p.f, p.Cg)"
   ]
  },
  {
   "cell_type": "code",
   "execution_count": 49,
   "id": "b309ca65-2024-43df-899f-9154f720ccda",
   "metadata": {},
   "outputs": [
    {
     "name": "stdout",
     "output_type": "stream",
     "text": [
      "  116.258 μs (496 allocations: 12.70 KiB)\n",
      "  86.982 μs (402 allocations: 10.12 KiB)\n"
     ]
    },
    {
     "data": {
      "text/plain": [
       "1000-element CuArray{Float32, 1, CUDA.DeviceMemory}:\n",
       " -0.61299276\n",
       " -0.26239848\n",
       "  0.5904165\n",
       " -0.69782037\n",
       "  0.3015013\n",
       "  0.7228992\n",
       "  0.40448335\n",
       " -0.3468381\n",
       " -0.74215394\n",
       " -0.7447526\n",
       " -0.4573735\n",
       "  0.6172285\n",
       " -0.32244894\n",
       "  ⋮\n",
       " -0.41026768\n",
       " -0.014729745\n",
       "  0.73839396\n",
       "  0.17618671\n",
       " -0.17330842\n",
       "  0.12084352\n",
       "  0.37240428\n",
       " -0.31934983\n",
       " -0.68752736\n",
       "  0.11805056\n",
       "  0.7131002\n",
       " -0.78841186"
      ]
     },
     "execution_count": 49,
     "metadata": {},
     "output_type": "execute_result"
    }
   ],
   "source": [
    "function CgBroadcast(texU1, texU2) \n",
    "    p = (f = 1.0f0, Cg = 1.0f0, t0 = 0.0f0, t1 = 1.0f0, x0 = -π, Lx = 2π, Nx=512)\n",
    "    t = 0.5\n",
    "    \n",
    "    alpha = (t - p.t0) / (p.t1 - p.t0)\n",
    "    \n",
    "    x = @views wavepacket_array[:, 1:2]\n",
    "    norm_x = @. (x - p.x0) / p.Lx + 0.5 / p.Nx\n",
    "    nx = @views norm_x[:, 1]\n",
    "    ny = @views norm_x[:, 2]\n",
    "    k1 = @views wavepacket_array[:, 3]\n",
    "    k2 = @views wavepacket_array[:, 4]\n",
    "    \n",
    "    ω = @. dispersion_relation(k1, k2, p.f, p.Cg)\n",
    "    Cg_x = @. k1 / ω\n",
    "    \n",
    "    \n",
    "    dx1 = CuArray{Float32}(undef, Np)\n",
    "    \n",
    "    broadcast!(dx1, nx, ny, Cg_x, Ref(texU1), Ref(texU2), alpha) do xi, yi, cgx, U1, U2, alpha\n",
    "        alpha * U1[xi, yi] + (1.0f0 - alpha) * U2[xi, yi] + cgx \n",
    "    end\n",
    "end\n",
    "\n",
    "function CgSeparate(texU1, texU2) \n",
    "    p = (f = 1.0f0, Cg = 1.0f0, t0 = 0.0f0, t1 = 1.0f0, x0 = -π, Lx = 2π, Nx=512)\n",
    "    t = 0.5\n",
    "    \n",
    "    alpha = (t - p.t0) / (p.t1 - p.t0)\n",
    "    \n",
    "    x = @views wavepacket_array[:, 1:2]\n",
    "    norm_x = @. (x - p.x0) / p.Lx + 0.5 / p.Nx\n",
    "    nx = @views norm_x[:, 1]\n",
    "    ny = @views norm_x[:, 2]\n",
    "    k1 = @views wavepacket_array[:, 3]\n",
    "    k2 = @views wavepacket_array[:, 4]\n",
    "    \n",
    "    dx1 = CuArray{Float32}(undef, Np)\n",
    "    \n",
    "    broadcast!(dx1, nx, ny, Ref(texU1), Ref(texU2), alpha) do xi, yi, U1, U2, alpha\n",
    "        alpha * U1[xi, yi] + (1.0f0 - alpha) * U2[xi, yi]\n",
    "    end\n",
    "\n",
    "    dx1 .+= k1 ./ dispersion_relation.(k1, k2, p.f, p.Cg)\n",
    "end\n",
    "\n",
    "texU1  = CuTexture(CuTextureArray(velocity1.u);  interpolation=CUDA.LinearInterpolation(), address_mode=CUDA.ADDRESS_MODE_WRAP, normalized_coordinates=true)\n",
    "texU2  = CuTexture(CuTextureArray(velocity2.u);  interpolation=CUDA.LinearInterpolation(), address_mode=CUDA.ADDRESS_MODE_WRAP, normalized_coordinates=true)\n",
    "\n",
    "@btime CUDA.@sync CgBroadcast(texU1, texU2)\n",
    "@btime CUDA.@sync  CgSeparate(texU1, texU2)"
   ]
  },
  {
   "cell_type": "code",
   "execution_count": 27,
   "id": "039ec4a3-c245-47d8-965b-d5dc7ef1613c",
   "metadata": {},
   "outputs": [
    {
     "name": "stdout",
     "output_type": "stream",
     "text": [
      "(10, 10, 10)\n"
     ]
    },
    {
     "data": {
      "text/plain": [
       "10-element Vector{Float32}:\n",
       " 0.31153327\n",
       " 0.79749954\n",
       " 0.18864238\n",
       " 0.8577519\n",
       " 0.41945142\n",
       " 0.6596827\n",
       " 0.23358303\n",
       " 0.22312123\n",
       " 0.7977649\n",
       " 0.5681535"
      ]
     },
     "execution_count": 27,
     "metadata": {},
     "output_type": "execute_result"
    }
   ],
   "source": [
    "T = Float32\n",
    "N = 3\n",
    "src = rand(T, fill(10, N)...)\n",
    "\n",
    "# indices we want to interpolate\n",
    "idx = [tuple(rand(1:0.1:10, N)...) for _ in 1:10]\n",
    "\n",
    "# upload to the GPU\n",
    "gpu_src = CuArray(src)\n",
    "gpu_idx = CuArray(idx)\n",
    "\n",
    "println(size(gpu_src))\n",
    "# create a texture array for optimized fetching\n",
    "# this is required for N=1, optional for N=2 and N=3\n",
    "gpu_src = CuTextureArray(gpu_src)\n",
    "\n",
    "# interpolate using a texture\n",
    "gpu_dst = CuArray{T}(undef, size(gpu_idx))\n",
    "gpu_tex = CuTexture(gpu_src; interpolation=CUDA.NearestNeighbour())\n",
    "broadcast!(gpu_dst, gpu_idx, Ref(gpu_tex)) do idx, tex\n",
    "    tex[idx...]\n",
    "end\n",
    "\n",
    "# back to the CPU\n",
    "dst = Array(gpu_dst)"
   ]
  },
  {
   "cell_type": "code",
   "execution_count": null,
   "id": "1d0e0e2d-c0c5-44e6-b39b-b1ec65216f02",
   "metadata": {},
   "outputs": [],
   "source": []
  }
 ],
 "metadata": {
  "kernelspec": {
   "display_name": "Julia 1.10.5",
   "language": "julia",
   "name": "julia-1.10"
  },
  "language_info": {
   "file_extension": ".jl",
   "mimetype": "application/julia",
   "name": "julia",
   "version": "1.10.5"
  }
 },
 "nbformat": 4,
 "nbformat_minor": 5
}
