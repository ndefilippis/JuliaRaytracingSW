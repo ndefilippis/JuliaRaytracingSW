{
 "cells": [
  {
   "cell_type": "code",
   "execution_count": 1,
   "id": "a4559baf-1ef7-40c9-aa44-bfb78b827d5b",
   "metadata": {},
   "outputs": [],
   "source": [
    "include(\"Collated.jl\")\n",
    "using .Collated"
   ]
  },
  {
   "cell_type": "code",
   "execution_count": 2,
   "id": "24eaab4c-069f-4baa-9a4d-cfb96c9c3eb9",
   "metadata": {},
   "outputs": [],
   "source": [
    "output = CollatedOutput(\"test_dir/my_output_file2\", 10)\n",
    "for i=1:1000\n",
    "    write!(output, string(i), sin(i/(2π)))\n",
    "end\n",
    "close!(output)"
   ]
  },
  {
   "cell_type": "code",
   "execution_count": 3,
   "id": "a889a061-b45e-4421-a7be-a766a415e359",
   "metadata": {},
   "outputs": [],
   "source": [
    "output = CollatedOutput(\"test_dir3\", \"sin.out\", 100)\n",
    "for i=1:1000\n",
    "    write!(output, string(i), sin(i/(2π)))\n",
    "end\n",
    "close!(output)"
   ]
  },
  {
   "cell_type": "code",
   "execution_count": null,
   "id": "f533799b-f7f3-4e34-a01e-eec26ae45db3",
   "metadata": {},
   "outputs": [],
   "source": [
    "close(output)"
   ]
  },
  {
   "cell_type": "code",
   "execution_count": 5,
   "id": "dfa17e4f-501a-4016-aa2e-936e89837627",
   "metadata": {},
   "outputs": [
    {
     "ename": "LoadError",
     "evalue": "`Makie.convert_arguments` for the plot type Scatter and its conversion trait PointBased() was unsuccessful.\n\nThe signature that could not be converted was:\n::Vector{Any}\n\nMakie needs to convert all plot input arguments to types that can be consumed by the backends (typically Arrays with Float32 elements).\nYou can define a method for `Makie.convert_arguments` (a type recipe) for these types or their supertypes to make this set of arguments convertible (See http://docs.makie.org/stable/documentation/recipes/index.html).\n\nAlternatively, you can define `Makie.convert_single_argument` for single arguments which have types that are unknown to Makie but which can be converted to known types and fed back to the conversion pipeline.\n",
     "output_type": "error",
     "traceback": [
      "`Makie.convert_arguments` for the plot type Scatter and its conversion trait PointBased() was unsuccessful.\n\nThe signature that could not be converted was:\n::Vector{Any}\n\nMakie needs to convert all plot input arguments to types that can be consumed by the backends (typically Arrays with Float32 elements).\nYou can define a method for `Makie.convert_arguments` (a type recipe) for these types or their supertypes to make this set of arguments convertible (See http://docs.makie.org/stable/documentation/recipes/index.html).\n\nAlternatively, you can define `Makie.convert_single_argument` for single arguments which have types that are unknown to Makie but which can be converted to known types and fed back to the conversion pipeline.\n",
      "",
      "Stacktrace:",
      " [1] error(s::String)",
      "   @ Base ./error.jl:35",
      " [2] convert_arguments(T::Type{Scatter}, args::Vector{Any}; kw::Base.Pairs{Symbol, Union{}, Tuple{}, NamedTuple{(), Tuple{}}})",
      "   @ Makie /ext3/pkgs/packages/Makie/QGPt0/src/conversions.jl:17",
      " [3] convert_arguments(T::Type{Scatter}, args::Vector{Any})",
      "   @ Makie /ext3/pkgs/packages/Makie/QGPt0/src/conversions.jl:7",
      " [4] (Scatter)(args::Tuple{Vector{Any}}, plot_attributes::Dict{Symbol, Any})",
      "   @ Makie /ext3/pkgs/packages/Makie/QGPt0/src/interfaces.jl:139",
      " [5] _create_plot(F::Function, attributes::Dict{Symbol, Any}, args::Vector{Any})",
      "   @ Makie /ext3/pkgs/packages/Makie/QGPt0/src/figureplotting.jl:248",
      " [6] plot(args::Vector{Any}; kw::Base.Pairs{Symbol, Union{}, Tuple{}, NamedTuple{(), Tuple{}}})",
      "   @ MakieCore /ext3/pkgs/packages/MakieCore/UAwps/src/recipes.jl:39",
      " [7] plot(args::Vector{Any})",
      "   @ MakieCore /ext3/pkgs/packages/MakieCore/UAwps/src/recipes.jl:39",
      " [8] top-level scope",
      "   @ In[5]:4"
     ]
    }
   ],
   "source": [
    "using CairoMakie\n",
    "input = CollatedInput(\"test_dir3\", \"sin\")\n",
    "y = map_input(input, x -> x)\n",
    "plot(y)"
   ]
  },
  {
   "cell_type": "code",
   "execution_count": 6,
   "id": "287a2c4a-42f4-40ae-9164-2a34c32ae091",
   "metadata": {},
   "outputs": [
    {
     "data": {
      "text/plain": [
       "JLDFile /home/nad9961/JuliaRaytracingSW/test_dir3/sin_00000001.out (read-only)\n",
       " ├─🔢 101\n",
       " ├─🔢 102\n",
       " ├─🔢 103\n",
       " ├─🔢 104\n",
       " ├─🔢 105\n",
       " ├─🔢 106\n",
       " ├─🔢 107\n",
       " ├─🔢 108\n",
       " ├─🔢 109\n",
       " └─ ⋯ (91 more entries)"
      ]
     },
     "execution_count": 6,
     "metadata": {},
     "output_type": "execute_result"
    }
   ],
   "source": [
    "using JLD2\n",
    "file = jldopen(\"test_dir3/sin_00000001.out\")"
   ]
  },
  {
   "cell_type": "code",
   "execution_count": 14,
   "id": "8f010c2a-eccb-4493-9331-ef85ff39ead2",
   "metadata": {},
   "outputs": [
    {
     "ename": "LoadError",
     "evalue": "KeyError: key \"\" not found",
     "output_type": "error",
     "traceback": [
      "KeyError: key \"\" not found",
      "",
      "Stacktrace:",
      " [1] getindex(g::JLD2.Group{JLD2.JLDFile{JLD2.MmapIO}}, name::String)",
      "   @ JLD2 /ext3/pkgs/packages/JLD2/z3MOM/src/groups.jl:101",
      " [2] getindex(f::JLD2.JLDFile{JLD2.MmapIO}, name::String)",
      "   @ JLD2 /ext3/pkgs/packages/JLD2/z3MOM/src/JLD2.jl:494",
      " [3] top-level scope",
      "   @ In[14]:1"
     ]
    }
   ],
   "source": []
  },
  {
   "cell_type": "code",
   "execution_count": null,
   "id": "58c074de-9e46-4cd5-a8f1-619f821a9f31",
   "metadata": {},
   "outputs": [],
   "source": []
  }
 ],
 "metadata": {
  "kernelspec": {
   "display_name": "Julia 1.10.5",
   "language": "julia",
   "name": "julia-1.10"
  },
  "language_info": {
   "file_extension": ".jl",
   "mimetype": "application/julia",
   "name": "julia",
   "version": "1.10.5"
  }
 },
 "nbformat": 4,
 "nbformat_minor": 5
}
