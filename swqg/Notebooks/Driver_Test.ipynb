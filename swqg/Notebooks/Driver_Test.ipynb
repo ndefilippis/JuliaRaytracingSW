{
 "cells": [
  {
   "cell_type": "code",
   "execution_count": 1,
   "id": "ebecfb0f-3435-4e1f-a83a-69dcd66191c3",
   "metadata": {},
   "outputs": [
    {
     "name": "stdout",
     "output_type": "stream",
     "text": [
      "Total steps: 48893. Spin-up steps: 24446, Output every 80 steps. Total: 306 output frames. Diagnostics every 122 steps, max writes per file: 3000\n",
      "Total time: 200.000000, Time step: 0.004091, Estimated CFL: 0.100\n",
      "Packets: 16384. Output every 16 steps. Total 1528 packet frames\n"
     ]
    },
    {
     "ename": "LoadError",
     "evalue": "CUDA driver not found",
     "output_type": "error",
     "traceback": [
      "CUDA driver not found",
      "",
      "Stacktrace:",
      "  [1] error(s::String)",
      "    @ Base ./error.jl:35",
      "  [2] functional",
      "    @ /ext3/pkgs/packages/CUDA/Tl08O/src/initialization.jl:24 [inlined]",
      "  [3] task_local_state!()",
      "    @ CUDA /ext3/pkgs/packages/CUDA/Tl08O/lib/cudadrv/state.jl:77",
      "  [4] device",
      "    @ /ext3/pkgs/packages/CUDA/Tl08O/lib/cudadrv/state.jl:189 [inlined]",
      "  [5] memory_stats",
      "    @ /ext3/pkgs/packages/CUDA/Tl08O/src/memory.jl:58 [inlined]",
      "  [6] maybe_collect(will_block::Bool)",
      "    @ CUDA /ext3/pkgs/packages/CUDA/Tl08O/src/memory.jl:69",
      "  [7] maybe_collect",
      "    @ /ext3/pkgs/packages/CUDA/Tl08O/src/memory.jl:65 [inlined]",
      "  [8] pool_alloc",
      "    @ /ext3/pkgs/packages/CUDA/Tl08O/src/memory.jl:615 [inlined]",
      "  [9] CUDA.CuArray{Float32, 2, CUDA.DeviceMemory}(::UndefInitializer, dims::Tuple{Int64, Int64})",
      "    @ CUDA /ext3/pkgs/packages/CUDA/Tl08O/src/array.jl:74",
      " [10] CuArray",
      "    @ /ext3/pkgs/packages/CUDA/Tl08O/src/array.jl:405 [inlined]",
      " [11] CuArray",
      "    @ /ext3/pkgs/packages/CUDA/Tl08O/src/array.jl:410 [inlined]",
      " [12] (CUDA.CuArray{Float32})(xs::Base.ReshapedArray{Float64, 2, AbstractFFTs.Frequencies{Float64}, Tuple{}})",
      "    @ CUDA /ext3/pkgs/packages/CUDA/Tl08O/src/array.jl:417",
      " [13] TwoDGrid(dev::GPU; nx::Int64, Lx::Float64, ny::Int64, Ly::Float64, x0::Float64, y0::Float64, nthreads::Int64, effort::UInt32, T::Type, aliased_fraction::Float64)",
      "    @ FourierFlows /ext3/pkgs/packages/FourierFlows/0jzfd/src/domains.jl:193",
      " [14] Problem(dev::GPU; nx::Int64, ny::Int64, Lx::Float64, Ly::Float64, ν::Float64, nν::Int64, f::Float64, Cg::Float64, stepper::String, dt::Float64, calcF!::typeof(Main.SWQG.nothingfunction), aliased_fraction::Float64, T::Type, use_filter::Bool, stepper_kwargs::@Kwargs{})",
      "    @ Main.SWQG ~/JuliaRaytracingSW/swqg/SWQG.jl:87",
      " [15] initialize_problem()",
      "    @ Main ~/JuliaRaytracingSW/swqg/RaytracingDriver.jl:81",
      " [16] start!()",
      "    @ Main ~/JuliaRaytracingSW/swqg/RaytracingDriver.jl:157",
      " [17] top-level scope",
      "    @ In[1]:9"
     ]
    }
   ],
   "source": [
    "using Revise\n",
    "includet(\"../../utils/IFMAB3.jl\")\n",
    "includet(\"../../utils/SequencedOutputs.jl\")\n",
    "includet(\"../../raytracing/GPURaytracing.jl\")\n",
    "includet(\"../SWQG.jl\")\n",
    "includet(\"../RaytracingParameters.jl\")\n",
    "includet(\"../RaytracingDriver.jl\")\n",
    "\n",
    "start!()"
   ]
  },
  {
   "cell_type": "code",
   "execution_count": 5,
   "id": "aff3fe8d-8422-4bb3-b5c8-0b4b22df15ce",
   "metadata": {},
   "outputs": [],
   "source": [
    "using JLD2"
   ]
  },
  {
   "cell_type": "code",
   "execution_count": 6,
   "id": "39118e8e-48ae-4106-9b81-5eaaa15106cf",
   "metadata": {},
   "outputs": [
    {
     "data": {
      "text/plain": [
       "JLDFile /home/nad9961/JuliaRaytracingSW/swqg/Notebooks/packets.000001.jld2 (read-only)\n",
       " └─📂 p\n",
       "    ├─📂 t\n",
       "    │  ├─🔢 20000\n",
       "    │  ├─🔢 20008\n",
       "    │  ├─🔢 20016\n",
       "    │  ├─🔢 20024\n",
       "    │  ├─🔢 20032\n",
       "    │  ├─🔢 20040\n",
       "    │  └─ ⋯ (552 more entries)\n",
       "    └─ ⋯ (3 more entries)"
      ]
     },
     "execution_count": 6,
     "metadata": {},
     "output_type": "execute_result"
    }
   ],
   "source": [
    "packet_file = jldopen(\"packets.000001.jld2\", \"r\")"
   ]
  },
  {
   "cell_type": "code",
   "execution_count": 21,
   "id": "07ce4bbd-8ce6-4eba-9679-18bed7aabf97",
   "metadata": {},
   "outputs": [
    {
     "data": {
      "text/plain": [
       "16384×2 Matrix{Float32}:\n",
       " -14.5106      -20.7315\n",
       "  29.6924      -18.8981\n",
       "  44.588        38.942\n",
       "  -5.03186     -49.344\n",
       "  50.5798       -6.00135\n",
       "  56.9907       16.0727\n",
       "  -8.40795      -9.90294\n",
       "  29.2888       22.0102\n",
       " -21.1467       37.9442\n",
       "  47.5327       26.8095\n",
       " -22.522        33.7723\n",
       "  51.5422       15.6209\n",
       "   7.78526      25.6008\n",
       "   ⋮           \n",
       " -13.0912       52.418\n",
       "  24.2707       53.4165\n",
       "  17.911        35.1655\n",
       "  37.8743       19.1893\n",
       "  53.0159      -34.2325\n",
       "  28.7337       61.1168\n",
       "  60.5689       30.1137\n",
       "  -0.00332627    6.06934\n",
       " -30.2274      -16.6816\n",
       "  41.3439       41.2258\n",
       " -37.4229       22.8002\n",
       "  13.6614       52.9174"
      ]
     },
     "execution_count": 21,
     "metadata": {},
     "output_type": "execute_result"
    }
   ],
   "source": [
    "packet_file[\"p/x/20008\"]"
   ]
  },
  {
   "cell_type": "code",
   "execution_count": null,
   "id": "ccd35479-2d14-40c2-bd86-80e8a78bd6c6",
   "metadata": {},
   "outputs": [],
   "source": []
  }
 ],
 "metadata": {
  "kernelspec": {
   "display_name": "Julia 1.10.5",
   "language": "julia",
   "name": "julia-1.10"
  },
  "language_info": {
   "file_extension": ".jl",
   "mimetype": "application/julia",
   "name": "julia",
   "version": "1.10.5"
  }
 },
 "nbformat": 4,
 "nbformat_minor": 5
}
