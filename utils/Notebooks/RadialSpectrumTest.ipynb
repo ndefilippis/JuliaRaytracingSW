{
 "cells": [
  {
   "cell_type": "code",
   "execution_count": 1,
   "id": "b85b0e45-8ebc-4fc8-9bc7-11c5015ad5c8",
   "metadata": {},
   "outputs": [
    {
     "data": {
      "text/plain": [
       "set_top_clip_weights (generic function with 1 method)"
      ]
     },
     "execution_count": 1,
     "metadata": {},
     "output_type": "execute_result"
    }
   ],
   "source": [
    "using FourierFlows\n",
    "include(\"../ExactRadialSpectrum.jl\")"
   ]
  },
  {
   "cell_type": "code",
   "execution_count": 2,
   "id": "94a6d0cb-1064-49a1-8c90-e31a0722a269",
   "metadata": {},
   "outputs": [],
   "source": [
    "using BenchmarkTools"
   ]
  },
  {
   "cell_type": "code",
   "execution_count": 3,
   "id": "ae21ab08-384b-4fd4-84d2-056b34d83651",
   "metadata": {},
   "outputs": [
    {
     "ename": "LoadError",
     "evalue": "MethodError: no method matching create_radialspectrum_weights(::TwoDGrid{Float64, Matrix{Float64}, StepRangeLen{Float64, Base.TwicePrecision{Float64}, Base.TwicePrecision{Float64}, Int64}, FFTW.cFFTWPlan{ComplexF64, -1, false, 2, Tuple{Int64, Int64}}, FFTW.rFFTWPlan{Float64, -1, false, 2, Tuple{Int64, Int64}}, UnitRange{Int64}, CPU}, ::Int64, ::Int64)\n\n\u001b[0mClosest candidates are:\n\u001b[0m  create_radialspectrum_weights(::Any, ::Any)\n\u001b[0m\u001b[90m   @\u001b[39m \u001b[35mMain\u001b[39m \u001b[90m~/JuliaRaytracingSW/utils/\u001b[39m\u001b[90m\u001b[4mExactRadialSpectrum.jl:4\u001b[24m\u001b[39m\n\u001b[0m  create_radialspectrum_weights(::Any)\n\u001b[0m\u001b[90m   @\u001b[39m \u001b[35mMain\u001b[39m \u001b[90m~/JuliaRaytracingSW/utils/\u001b[39m\u001b[90m\u001b[4mExactRadialSpectrum.jl:4\u001b[24m\u001b[39m\n",
     "output_type": "error",
     "traceback": [
      "MethodError: no method matching create_radialspectrum_weights(::TwoDGrid{Float64, Matrix{Float64}, StepRangeLen{Float64, Base.TwicePrecision{Float64}, Base.TwicePrecision{Float64}, Int64}, FFTW.cFFTWPlan{ComplexF64, -1, false, 2, Tuple{Int64, Int64}}, FFTW.rFFTWPlan{Float64, -1, false, 2, Tuple{Int64, Int64}}, UnitRange{Int64}, CPU}, ::Int64, ::Int64)\n\n\u001b[0mClosest candidates are:\n\u001b[0m  create_radialspectrum_weights(::Any, ::Any)\n\u001b[0m\u001b[90m   @\u001b[39m \u001b[35mMain\u001b[39m \u001b[90m~/JuliaRaytracingSW/utils/\u001b[39m\u001b[90m\u001b[4mExactRadialSpectrum.jl:4\u001b[24m\u001b[39m\n\u001b[0m  create_radialspectrum_weights(::Any)\n\u001b[0m\u001b[90m   @\u001b[39m \u001b[35mMain\u001b[39m \u001b[90m~/JuliaRaytracingSW/utils/\u001b[39m\u001b[90m\u001b[4mExactRadialSpectrum.jl:4\u001b[24m\u001b[39m\n",
      "",
      "Stacktrace:",
      " [1] top-level scope",
      "   @ In[3]:3"
     ]
    }
   ],
   "source": [
    "grid = TwoDGrid(;nx=32, Lx=2π)\n",
    "\n",
    "radii, weights = create_radialspectrum_weights(grid, 1, 1)"
   ]
  },
  {
   "cell_type": "code",
   "execution_count": 66,
   "id": "dd840b5a-b6f7-483a-9377-12de15b83a00",
   "metadata": {},
   "outputs": [
    {
     "data": {
      "text/plain": [
       "17×32 SparseMatrixCSC{Float64, Int64} with 6 stored entries:\n",
       "⎡⠛⠀⠀⠀⠀⠀⠀⠀⠀⠀⠀⠀⠀⠀⠀⠘⎤\n",
       "⎢⠀⠀⠀⠀⠀⠀⠀⠀⠀⠀⠀⠀⠀⠀⠀⠀⎥\n",
       "⎢⠀⠀⠀⠀⠀⠀⠀⠀⠀⠀⠀⠀⠀⠀⠀⠀⎥\n",
       "⎢⠀⠀⠀⠀⠀⠀⠀⠀⠀⠀⠀⠀⠀⠀⠀⠀⎥\n",
       "⎣⠀⠀⠀⠀⠀⠀⠀⠀⠀⠀⠀⠀⠀⠀⠀⠀⎦"
      ]
     },
     "execution_count": 66,
     "metadata": {},
     "output_type": "execute_result"
    }
   ],
   "source": [
    "weights[1]"
   ]
  },
  {
   "cell_type": "code",
   "execution_count": 69,
   "id": "4146c41c-206c-4fb7-b2f2-f68d05b9e405",
   "metadata": {},
   "outputs": [
    {
     "data": {
      "text/plain": [
       "16-element Vector{Float64}:\n",
       "   6.283185307179586\n",
       "   6.2831853071795845\n",
       "   6.283185307179595\n",
       "   6.283185307179583\n",
       "   6.283185307179579\n",
       "   6.2831853071796\n",
       "   6.283185307179586\n",
       "   6.283185307179593\n",
       "   6.283185307179544\n",
       "   6.283185307179643\n",
       "   6.283185307179551\n",
       "   6.283185307179593\n",
       "   6.283185307179551\n",
       "   6.283185307179664\n",
       "   0.9749221555840251\n",
       " -16.758052204824736"
      ]
     },
     "execution_count": 69,
     "metadata": {},
     "output_type": "execute_result"
    }
   ],
   "source": [
    "#test_data = grid.Krsq\n",
    "test_data = ones(grid.nkr, grid.nl)\n",
    "oneDspectrum = radialspectrum(test_data, weights)\n",
    "diff(oneDspectrum)"
   ]
  },
  {
   "cell_type": "code",
   "execution_count": 60,
   "id": "8ad8a62e-03d2-402c-bb34-d50c2919c7aa",
   "metadata": {},
   "outputs": [
    {
     "data": {
      "text/plain": [
       "1×32 Matrix{Float64}:\n",
       " 0.0  1.0  2.0  3.0  4.0  5.0  6.0  …  -6.0  -5.0  -4.0  -3.0  -2.0  -1.0"
      ]
     },
     "execution_count": 60,
     "metadata": {},
     "output_type": "execute_result"
    }
   ],
   "source": [
    "grid.l"
   ]
  },
  {
   "cell_type": "code",
   "execution_count": 55,
   "id": "b272d613-a158-443c-87db-63d6e116985a",
   "metadata": {},
   "outputs": [],
   "source": [
    "using SparseArrays"
   ]
  },
  {
   "cell_type": "code",
   "execution_count": 64,
   "id": "a1523db3-8405-4556-b6c5-7df92fb94726",
   "metadata": {},
   "outputs": [
    {
     "data": {
      "text/plain": [
       "10-element Vector{SparseMatrixCSC}:\n",
       " #undef\n",
       " #undef\n",
       " #undef\n",
       " #undef\n",
       " #undef\n",
       " #undef\n",
       " #undef\n",
       " #undef\n",
       " #undef\n",
       " #undef"
      ]
     },
     "execution_count": 64,
     "metadata": {},
     "output_type": "execute_result"
    }
   ],
   "source": [
    "a = Vector{SparseMatrixCSC}(undef, 10)"
   ]
  },
  {
   "cell_type": "code",
   "execution_count": null,
   "id": "0a72340f-8585-4e43-a5bb-98eee0bf3e34",
   "metadata": {},
   "outputs": [],
   "source": []
  }
 ],
 "metadata": {
  "kernelspec": {
   "display_name": "Julia 1.10.5",
   "language": "julia",
   "name": "julia-1.10"
  },
  "language_info": {
   "file_extension": ".jl",
   "mimetype": "application/julia",
   "name": "julia",
   "version": "1.10.5"
  }
 },
 "nbformat": 4,
 "nbformat_minor": 5
}
